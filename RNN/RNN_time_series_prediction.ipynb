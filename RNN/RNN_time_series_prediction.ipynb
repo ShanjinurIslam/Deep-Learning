{
  "nbformat": 4,
  "nbformat_minor": 0,
  "metadata": {
    "colab": {
      "name": "RNN_time_series_prediction.ipynb",
      "provenance": [],
      "collapsed_sections": []
    },
    "kernelspec": {
      "name": "python3",
      "display_name": "Python 3"
    }
  },
  "cells": [
    {
      "cell_type": "code",
      "metadata": {
        "id": "qwitHVIV-hpn",
        "colab_type": "code",
        "colab": {}
      },
      "source": [
        "import tensorflow as tf"
      ],
      "execution_count": 0,
      "outputs": []
    },
    {
      "cell_type": "code",
      "metadata": {
        "id": "8pdY-rk0D738",
        "colab_type": "code",
        "colab": {}
      },
      "source": [
        "from tensorflow.keras.layers  import Input, SimpleRNN, Dense, Flatten\n",
        "from tensorflow.keras.models import Model\n",
        "from tensorflow.keras.optimizers import SGD, Adam\n",
        "\n",
        "import numpy as np\n",
        "import pandas as pd\n",
        "import matplotlib.pyplot as plt"
      ],
      "execution_count": 0,
      "outputs": []
    },
    {
      "cell_type": "code",
      "metadata": {
        "id": "_6sDKyMuIRNb",
        "colab_type": "code",
        "colab": {
          "base_uri": "https://localhost:8080/",
          "height": 282
        },
        "outputId": "ab3e322f-eecf-4fb7-e6dd-dcababb4131e"
      },
      "source": [
        "series = np.sin(0.1*np.arange(200)) + 0.1*np.random.randn(200)\n",
        "plt.plot(series)"
      ],
      "execution_count": 115,
      "outputs": [
        {
          "output_type": "execute_result",
          "data": {
            "text/plain": [
              "[<matplotlib.lines.Line2D at 0x7f6de2c263c8>]"
            ]
          },
          "metadata": {
            "tags": []
          },
          "execution_count": 115
        },
        {
          "output_type": "display_data",
          "data": {
            "image/png": "[encoded data removed]",
            "text/plain": [
              "<Figure size 432x288 with 1 Axes>"
            ]
          },
          "metadata": {
            "tags": [],
            "needs_background": "light"
          }
        }
      ]
    },
    {
      "cell_type": "code",
      "metadata": {
        "id": "HsZ4UGejIYRh",
        "colab_type": "code",
        "colab": {}
      },
      "source": [
        "T = 10 # Time step length \n",
        "D = 1 \n",
        "X = []\n",
        "Y = []\n",
        "\n",
        "for t in range(len(series)-T):\n",
        "  x = series[t:t+T]\n",
        "  X.append(x)\n",
        "  y = series[t+T]\n",
        "  Y.append(y)\n",
        "\n",
        "X = np.array(X).reshape(-1,T,1)\n",
        "Y = np.array(Y)\n",
        "N = len(X)"
      ],
      "execution_count": 0,
      "outputs": []
    },
    {
      "cell_type": "code",
      "metadata": {
        "id": "J-Yw81dRJXWU",
        "colab_type": "code",
        "colab": {
          "base_uri": "https://localhost:8080/",
          "height": 260
        },
        "outputId": "a70d8e21-109e-4223-d378-a145371299f3"
      },
      "source": [
        "i = Input(shape=(T,1))\n",
        "x = SimpleRNN(5,activation='sigmoid')(i)\n",
        "x = Dense(1)(x)\n",
        "\n",
        "model = Model(i,x)\n",
        "model.compile(loss='mse',optimizer=Adam(lr=.1))\n",
        "model.summary()"
      ],
      "execution_count": 117,
      "outputs": [
        {
          "output_type": "stream",
          "text": [
            "Model: \"model_11\"\n",
            "_________________________________________________________________\n",
            "Layer (type)                 Output Shape              Param #   \n",
            "=================================================================\n",
            "input_12 (InputLayer)        [(None, 10, 1)]           0         \n",
            "_________________________________________________________________\n",
            "simple_rnn_11 (SimpleRNN)    (None, 5)                 35        \n",
            "_________________________________________________________________\n",
            "dense_11 (Dense)             (None, 1)                 6         \n",
            "=================================================================\n",
            "Total params: 41\n",
            "Trainable params: 41\n",
            "Non-trainable params: 0\n",
            "_________________________________________________________________\n"
          ],
          "name": "stdout"
        }
      ]
    },
    {
      "cell_type": "code",
      "metadata": {
        "id": "vMHUBitoKJsm",
        "colab_type": "code",
        "colab": {
          "base_uri": "https://localhost:8080/",
          "height": 1000
        },
        "outputId": "471cea04-10c1-471c-a290-3bffff1485a4"
      },
      "source": [
        "r = model.fit(X[:-N//2],Y[:-N//2],epochs=80,validation_data=(X[-N//2:],Y[-N//2:]))"
      ],
      "execution_count": 118,
      "outputs": [
        {
          "output_type": "stream",
          "text": [
            "Epoch 1/80\n",
            "3/3 [==============================] - 0s 54ms/step - loss: 0.8939 - val_loss: 0.3430\n",
            "Epoch 2/80\n",
            "3/3 [==============================] - 0s 14ms/step - loss: 0.4665 - val_loss: 0.3001\n",
            "Epoch 3/80\n",
            "3/3 [==============================] - 0s 16ms/step - loss: 0.2821 - val_loss: 0.1274\n",
            "Epoch 4/80\n",
            "3/3 [==============================] - 0s 13ms/step - loss: 0.1006 - val_loss: 0.1352\n",
            "Epoch 5/80\n",
            "3/3 [==============================] - 0s 16ms/step - loss: 0.1167 - val_loss: 0.1195\n",
            "Epoch 6/80\n",
            "3/3 [==============================] - 0s 15ms/step - loss: 0.0939 - val_loss: 0.0403\n",
            "Epoch 7/80\n",
            "3/3 [==============================] - 0s 14ms/step - loss: 0.0327 - val_loss: 0.0339\n",
            "Epoch 8/80\n",
            "3/3 [==============================] - 0s 14ms/step - loss: 0.0378 - val_loss: 0.0744\n",
            "Epoch 9/80\n",
            "3/3 [==============================] - 0s 13ms/step - loss: 0.0549 - val_loss: 0.0617\n",
            "Epoch 10/80\n",
            "3/3 [==============================] - 0s 18ms/step - loss: 0.0388 - val_loss: 0.0339\n",
            "Epoch 11/80\n",
            "3/3 [==============================] - 0s 14ms/step - loss: 0.0289 - val_loss: 0.0277\n",
            "Epoch 12/80\n",
            "3/3 [==============================] - 0s 14ms/step - loss: 0.0322 - val_loss: 0.0284\n",
            "Epoch 13/80\n",
            "3/3 [==============================] - 0s 14ms/step - loss: 0.0297 - val_loss: 0.0258\n",
            "Epoch 14/80\n",
            "3/3 [==============================] - 0s 14ms/step - loss: 0.0268 - val_loss: 0.0274\n",
            "Epoch 15/80\n",
            "3/3 [==============================] - 0s 14ms/step - loss: 0.0280 - val_loss: 0.0293\n",
            "Epoch 16/80\n",
            "3/3 [==============================] - 0s 14ms/step - loss: 0.0285 - val_loss: 0.0270\n",
            "Epoch 17/80\n",
            "3/3 [==============================] - 0s 17ms/step - loss: 0.0255 - val_loss: 0.0254\n",
            "Epoch 18/80\n",
            "3/3 [==============================] - 0s 14ms/step - loss: 0.0249 - val_loss: 0.0252\n",
            "Epoch 19/80\n",
            "3/3 [==============================] - 0s 15ms/step - loss: 0.0257 - val_loss: 0.0252\n",
            "Epoch 20/80\n",
            "3/3 [==============================] - 0s 17ms/step - loss: 0.0254 - val_loss: 0.0257\n",
            "Epoch 21/80\n",
            "3/3 [==============================] - 0s 13ms/step - loss: 0.0251 - val_loss: 0.0269\n",
            "Epoch 22/80\n",
            "3/3 [==============================] - 0s 14ms/step - loss: 0.0255 - val_loss: 0.0268\n",
            "Epoch 23/80\n",
            "3/3 [==============================] - 0s 14ms/step - loss: 0.0253 - val_loss: 0.0254\n",
            "Epoch 24/80\n",
            "3/3 [==============================] - 0s 14ms/step - loss: 0.0247 - val_loss: 0.0252\n",
            "Epoch 25/80\n",
            "3/3 [==============================] - 0s 13ms/step - loss: 0.0247 - val_loss: 0.0252\n",
            "Epoch 26/80\n",
            "3/3 [==============================] - 0s 14ms/step - loss: 0.0248 - val_loss: 0.0252\n",
            "Epoch 27/80\n",
            "3/3 [==============================] - 0s 14ms/step - loss: 0.0246 - val_loss: 0.0256\n",
            "Epoch 28/80\n",
            "3/3 [==============================] - 0s 13ms/step - loss: 0.0248 - val_loss: 0.0260\n",
            "Epoch 29/80\n",
            "3/3 [==============================] - 0s 16ms/step - loss: 0.0249 - val_loss: 0.0254\n",
            "Epoch 30/80\n",
            "3/3 [==============================] - 0s 15ms/step - loss: 0.0245 - val_loss: 0.0253\n",
            "Epoch 31/80\n",
            "3/3 [==============================] - 0s 14ms/step - loss: 0.0245 - val_loss: 0.0252\n",
            "Epoch 32/80\n",
            "3/3 [==============================] - 0s 14ms/step - loss: 0.0245 - val_loss: 0.0252\n",
            "Epoch 33/80\n",
            "3/3 [==============================] - 0s 14ms/step - loss: 0.0247 - val_loss: 0.0256\n",
            "Epoch 34/80\n",
            "3/3 [==============================] - 0s 13ms/step - loss: 0.0247 - val_loss: 0.0253\n",
            "Epoch 35/80\n",
            "3/3 [==============================] - 0s 14ms/step - loss: 0.0244 - val_loss: 0.0255\n",
            "Epoch 36/80\n",
            "3/3 [==============================] - 0s 14ms/step - loss: 0.0244 - val_loss: 0.0255\n",
            "Epoch 37/80\n",
            "3/3 [==============================] - 0s 17ms/step - loss: 0.0246 - val_loss: 0.0251\n",
            "Epoch 38/80\n",
            "3/3 [==============================] - 0s 14ms/step - loss: 0.0245 - val_loss: 0.0250\n",
            "Epoch 39/80\n",
            "3/3 [==============================] - 0s 17ms/step - loss: 0.0245 - val_loss: 0.0254\n",
            "Epoch 40/80\n",
            "3/3 [==============================] - 0s 14ms/step - loss: 0.0247 - val_loss: 0.0258\n",
            "Epoch 41/80\n",
            "3/3 [==============================] - 0s 13ms/step - loss: 0.0244 - val_loss: 0.0251\n",
            "Epoch 42/80\n",
            "3/3 [==============================] - 0s 14ms/step - loss: 0.0244 - val_loss: 0.0249\n",
            "Epoch 43/80\n",
            "3/3 [==============================] - 0s 14ms/step - loss: 0.0243 - val_loss: 0.0252\n",
            "Epoch 44/80\n",
            "3/3 [==============================] - 0s 14ms/step - loss: 0.0247 - val_loss: 0.0258\n",
            "Epoch 45/80\n",
            "3/3 [==============================] - 0s 14ms/step - loss: 0.0242 - val_loss: 0.0251\n",
            "Epoch 46/80\n",
            "3/3 [==============================] - 0s 14ms/step - loss: 0.0242 - val_loss: 0.0249\n",
            "Epoch 47/80\n",
            "3/3 [==============================] - 0s 15ms/step - loss: 0.0242 - val_loss: 0.0251\n",
            "Epoch 48/80\n",
            "3/3 [==============================] - 0s 16ms/step - loss: 0.0240 - val_loss: 0.0253\n",
            "Epoch 49/80\n",
            "3/3 [==============================] - 0s 14ms/step - loss: 0.0244 - val_loss: 0.0257\n",
            "Epoch 50/80\n",
            "3/3 [==============================] - 0s 15ms/step - loss: 0.0246 - val_loss: 0.0248\n",
            "Epoch 51/80\n",
            "3/3 [==============================] - 0s 14ms/step - loss: 0.0241 - val_loss: 0.0249\n",
            "Epoch 52/80\n",
            "3/3 [==============================] - 0s 14ms/step - loss: 0.0241 - val_loss: 0.0254\n",
            "Epoch 53/80\n",
            "3/3 [==============================] - 0s 14ms/step - loss: 0.0241 - val_loss: 0.0254\n",
            "Epoch 54/80\n",
            "3/3 [==============================] - 0s 13ms/step - loss: 0.0239 - val_loss: 0.0248\n",
            "Epoch 55/80\n",
            "3/3 [==============================] - 0s 15ms/step - loss: 0.0241 - val_loss: 0.0248\n",
            "Epoch 56/80\n",
            "3/3 [==============================] - 0s 14ms/step - loss: 0.0239 - val_loss: 0.0254\n",
            "Epoch 57/80\n",
            "3/3 [==============================] - 0s 15ms/step - loss: 0.0246 - val_loss: 0.0250\n",
            "Epoch 58/80\n",
            "3/3 [==============================] - 0s 18ms/step - loss: 0.0239 - val_loss: 0.0253\n",
            "Epoch 59/80\n",
            "3/3 [==============================] - 0s 14ms/step - loss: 0.0239 - val_loss: 0.0253\n",
            "Epoch 60/80\n",
            "3/3 [==============================] - 0s 14ms/step - loss: 0.0242 - val_loss: 0.0250\n",
            "Epoch 61/80\n",
            "3/3 [==============================] - 0s 13ms/step - loss: 0.0239 - val_loss: 0.0248\n",
            "Epoch 62/80\n",
            "3/3 [==============================] - 0s 14ms/step - loss: 0.0241 - val_loss: 0.0246\n",
            "Epoch 63/80\n",
            "3/3 [==============================] - 0s 15ms/step - loss: 0.0240 - val_loss: 0.0249\n",
            "Epoch 64/80\n",
            "3/3 [==============================] - 0s 15ms/step - loss: 0.0236 - val_loss: 0.0261\n",
            "Epoch 65/80\n",
            "3/3 [==============================] - 0s 14ms/step - loss: 0.0244 - val_loss: 0.0256\n",
            "Epoch 66/80\n",
            "3/3 [==============================] - 0s 13ms/step - loss: 0.0240 - val_loss: 0.0246\n",
            "Epoch 67/80\n",
            "3/3 [==============================] - 0s 17ms/step - loss: 0.0242 - val_loss: 0.0248\n",
            "Epoch 68/80\n",
            "3/3 [==============================] - 0s 14ms/step - loss: 0.0236 - val_loss: 0.0250\n",
            "Epoch 69/80\n",
            "3/3 [==============================] - 0s 14ms/step - loss: 0.0238 - val_loss: 0.0252\n",
            "Epoch 70/80\n",
            "3/3 [==============================] - 0s 16ms/step - loss: 0.0238 - val_loss: 0.0247\n",
            "Epoch 71/80\n",
            "3/3 [==============================] - 0s 15ms/step - loss: 0.0236 - val_loss: 0.0247\n",
            "Epoch 72/80\n",
            "3/3 [==============================] - 0s 14ms/step - loss: 0.0236 - val_loss: 0.0251\n",
            "Epoch 73/80\n",
            "3/3 [==============================] - 0s 15ms/step - loss: 0.0236 - val_loss: 0.0251\n",
            "Epoch 74/80\n",
            "3/3 [==============================] - 0s 14ms/step - loss: 0.0236 - val_loss: 0.0249\n",
            "Epoch 75/80\n",
            "3/3 [==============================] - 0s 13ms/step - loss: 0.0235 - val_loss: 0.0253\n",
            "Epoch 76/80\n",
            "3/3 [==============================] - 0s 14ms/step - loss: 0.0240 - val_loss: 0.0247\n",
            "Epoch 77/80\n",
            "3/3 [==============================] - 0s 17ms/step - loss: 0.0234 - val_loss: 0.0250\n",
            "Epoch 78/80\n",
            "3/3 [==============================] - 0s 14ms/step - loss: 0.0237 - val_loss: 0.0249\n",
            "Epoch 79/80\n",
            "3/3 [==============================] - 0s 13ms/step - loss: 0.0236 - val_loss: 0.0250\n",
            "Epoch 80/80\n",
            "3/3 [==============================] - 0s 14ms/step - loss: 0.0235 - val_loss: 0.0247\n"
          ],
          "name": "stdout"
        }
      ]
    },
    {
      "cell_type": "code",
      "metadata": {
        "id": "ybxuZcX5KVs3",
        "colab_type": "code",
        "colab": {}
      },
      "source": [
        "validation_target = Y[-N//2:]\n",
        "validation_predictions = []\n",
        "\n",
        "i = -N//2\n"
      ],
      "execution_count": 0,
      "outputs": []
    },
    {
      "cell_type": "code",
      "metadata": {
        "id": "0OzhKUp-LHwG",
        "colab_type": "code",
        "colab": {}
      },
      "source": [
        "last_x = X[i]\n",
        "\n",
        "while(len(validation_predictions)<len(validation_target)):\n",
        "  p = model.predict(X[i].reshape(1,-1,1))[0,0]\n",
        "  i +=1\n",
        "  validation_predictions.append(p)\n",
        "  last_x = np.roll(last_x,-1)\n",
        "  last_x[-1] = p"
      ],
      "execution_count": 0,
      "outputs": []
    },
    {
      "cell_type": "code",
      "metadata": {
        "id": "dg_4mg1cL15s",
        "colab_type": "code",
        "colab": {
          "base_uri": "https://localhost:8080/",
          "height": 282
        },
        "outputId": "9d189cbe-75d5-4768-b617-cbea8803af86"
      },
      "source": [
        "plt.plot(validation_target,label='original')\n",
        "plt.plot(validation_predictions,label='prediction')\n",
        "plt.legend()"
      ],
      "execution_count": 121,
      "outputs": [
        {
          "output_type": "execute_result",
          "data": {
            "text/plain": [
              "<matplotlib.legend.Legend at 0x7f6de1dc2be0>"
            ]
          },
          "metadata": {
            "tags": []
          },
          "execution_count": 121
        },
        {
          "output_type": "display_data",
          "data": {
            "image/png": "[encoded data removed]",
            "text/plain": [
              "<Figure size 432x288 with 1 Axes>"
            ]
          },
          "metadata": {
            "tags": [],
            "needs_background": "light"
          }
        }
      ]
    },
    {
      "cell_type": "code",
      "metadata": {
        "id": "Mz_pg5cXMAHs",
        "colab_type": "code",
        "colab": {}
      },
      "source": [
        ""
      ],
      "execution_count": 0,
      "outputs": []
    }
  ]
}