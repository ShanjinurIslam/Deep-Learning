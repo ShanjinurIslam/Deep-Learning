{
  "nbformat": 4,
  "nbformat_minor": 0,
  "metadata": {
    "colab": {
      "name": "RNN.ipynb",
      "provenance": []
    },
    "kernelspec": {
      "name": "python3",
      "display_name": "Python 3"
    }
  },
  "cells": [
    {
      "cell_type": "markdown",
      "metadata": {
        "id": "bXCB2C3mjh6w",
        "colab_type": "text"
      },
      "source": [
        "# Shape of a sequence\n",
        "\n",
        "Our data is represented as a 3D array of size NxTxD\n",
        "\n",
        "N = # samples\n",
        "\n",
        "D = # features\n",
        "\n",
        "T = # time steps in the sequence\n"
      ]
    },
    {
      "cell_type": "markdown",
      "metadata": {
        "id": "ua0pP8nNj5BL",
        "colab_type": "text"
      },
      "source": [
        " ## Example : Stock Prices\n",
        "\n",
        " A stock price is just a single value so D = 1\n",
        "\n",
        " Window of size T = 10 to predict the next value\n",
        "\n",
        "\n",
        "In tensorflow we will use constant length sequences "
      ]
    },
    {
      "cell_type": "markdown",
      "metadata": {
        "id": "jvI1xiUXlfY7",
        "colab_type": "text"
      },
      "source": [
        "# Forecasting\n",
        "\n",
        "Forecasting means predict the next values of a time series\n",
        "\n",
        "Number of steps we want to predict is called the horizon"
      ]
    },
    {
      "cell_type": "code",
      "metadata": {
        "id": "8pGjYdphmOy7",
        "colab_type": "code",
        "colab": {}
      },
      "source": [
        ""
      ],
      "execution_count": 0,
      "outputs": []
    }
  ]
}