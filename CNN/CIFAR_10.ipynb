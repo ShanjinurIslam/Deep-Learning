{
  "nbformat": 4,
  "nbformat_minor": 0,
  "metadata": {
    "colab": {
      "name": "CIFAR-10.ipynb",
      "provenance": []
    },
    "kernelspec": {
      "name": "python3",
      "display_name": "Python 3"
    },
    "accelerator": "GPU"
  },
  "cells": [
    {
      "cell_type": "code",
      "metadata": {
        "id": "Xv1Qljsq56y8",
        "colab_type": "code",
        "colab": {}
      },
      "source": [
        "# Load in dataset\n",
        "import tensorflow as tf\n",
        "import numpy as np\n",
        "\n",
        "(X_train,y_train),(X_test,y_test) = tf.keras.datasets.cifar10.load_data()\n",
        "\n",
        "X_train,X_test = X_train/255.0,X_test/255.0\n",
        "\n",
        "y_train = y_train.flatten()\n",
        "y_test  = y_test.flatten() "
      ],
      "execution_count": 0,
      "outputs": []
    },
    {
      "cell_type": "code",
      "metadata": {
        "id": "g0vWCcbr6TAp",
        "colab_type": "code",
        "colab": {
          "base_uri": "https://localhost:8080/",
          "height": 34
        },
        "outputId": "ac6b3284-8980-4a64-a8d5-f2ab500ed303"
      },
      "source": [
        "K = len(np.unique(y_train))\n",
        "\n",
        "print('Number of classes : ',K)"
      ],
      "execution_count": 16,
      "outputs": [
        {
          "output_type": "stream",
          "text": [
            "Number of classes :  10\n"
          ],
          "name": "stdout"
        }
      ]
    },
    {
      "cell_type": "code",
      "metadata": {
        "id": "ONltPw6P6c9q",
        "colab_type": "code",
        "colab": {}
      },
      "source": [
        "#Building the model\n",
        "\n",
        "from tensorflow.keras.layers import Input,Conv2D,Dense,Flatten,Dropout,BatchNormalization,MaxPooling2D\n",
        "from tensorflow.keras.models import Model\n",
        "\n",
        "i = Input(shape=X_train[0].shape)\n",
        "x = Conv2D(32,(3,3),activation='relu',padding='same')(i)\n",
        "x = BatchNormalization()(x)\n",
        "x = Conv2D(32,(3,3),activation='relu',padding='same')(i)\n",
        "x = BatchNormalization()(x)\n",
        "x = MaxPooling2D((2,2))(x)\n",
        "\n",
        "x = Conv2D(64,(3,3),activation='relu',padding='same')(i)\n",
        "x = BatchNormalization()(x)\n",
        "x = Conv2D(64,(3,3),activation='relu',padding='same')(i)\n",
        "x = BatchNormalization()(x)\n",
        "x = MaxPooling2D((2,2))(x)\n",
        "\n",
        "x = Conv2D(128,(3,3),activation='relu',padding='same')(i)\n",
        "x = BatchNormalization()(x)\n",
        "x = Conv2D(128,(3,3),activation='relu',padding='same')(i)\n",
        "x = BatchNormalization()(x)\n",
        "x = MaxPooling2D((2,2))(x)\n",
        "\n",
        "x = Flatten()(x)\n",
        "x = Dropout(.2)(x)\n",
        "x = Dense(1024,activation='relu')(x)\n",
        "x = Dropout(.2)(x)\n",
        "x = Dense(K,activation='softmax')(x)\n",
        "\n",
        "model = Model(i,x)"
      ],
      "execution_count": 0,
      "outputs": []
    },
    {
      "cell_type": "code",
      "metadata": {
        "id": "wyX9uRRT7Okg",
        "colab_type": "code",
        "colab": {}
      },
      "source": [
        "#compile the model\n",
        "\n",
        "model.compile(optimizer='adam',loss='sparse_categorical_crossentropy',metrics=['accuracy'])"
      ],
      "execution_count": 0,
      "outputs": []
    },
    {
      "cell_type": "code",
      "metadata": {
        "id": "Jyl8jyic8MWb",
        "colab_type": "code",
        "colab": {
          "base_uri": "https://localhost:8080/",
          "height": 538
        },
        "outputId": "dee5b029-cd0e-4665-c744-5ee89c112c80"
      },
      "source": [
        "r = model.fit(X_train,y_train,validation_data=(X_test,y_test),epochs=15)"
      ],
      "execution_count": 19,
      "outputs": [
        {
          "output_type": "stream",
          "text": [
            "Epoch 1/15\n",
            "1563/1563 [==============================] - 38s 24ms/step - loss: 1.4530 - accuracy: 0.5137 - val_loss: 1.2422 - val_accuracy: 0.5582\n",
            "Epoch 2/15\n",
            "1563/1563 [==============================] - 38s 24ms/step - loss: 1.0611 - accuracy: 0.6328 - val_loss: 1.4546 - val_accuracy: 0.5617\n",
            "Epoch 3/15\n",
            "1563/1563 [==============================] - 38s 24ms/step - loss: 0.8514 - accuracy: 0.7036 - val_loss: 1.0956 - val_accuracy: 0.6385\n",
            "Epoch 4/15\n",
            "1563/1563 [==============================] - 38s 24ms/step - loss: 0.6818 - accuracy: 0.7639 - val_loss: 1.1258 - val_accuracy: 0.6444\n",
            "Epoch 5/15\n",
            "1563/1563 [==============================] - 38s 24ms/step - loss: 0.5430 - accuracy: 0.8140 - val_loss: 1.2496 - val_accuracy: 0.6353\n",
            "Epoch 6/15\n",
            "1563/1563 [==============================] - 37s 24ms/step - loss: 0.4379 - accuracy: 0.8526 - val_loss: 1.6796 - val_accuracy: 0.5704\n",
            "Epoch 7/15\n",
            "1563/1563 [==============================] - 38s 24ms/step - loss: 0.3800 - accuracy: 0.8749 - val_loss: 1.5454 - val_accuracy: 0.6366\n",
            "Epoch 8/15\n",
            "1563/1563 [==============================] - 38s 24ms/step - loss: 0.3350 - accuracy: 0.8902 - val_loss: 2.0577 - val_accuracy: 0.6112\n",
            "Epoch 9/15\n",
            "1563/1563 [==============================] - 38s 24ms/step - loss: 0.2902 - accuracy: 0.9049 - val_loss: 1.5915 - val_accuracy: 0.6527\n",
            "Epoch 10/15\n",
            "1563/1563 [==============================] - 38s 24ms/step - loss: 0.2765 - accuracy: 0.9125 - val_loss: 2.0067 - val_accuracy: 0.6205\n",
            "Epoch 11/15\n",
            "1563/1563 [==============================] - 38s 24ms/step - loss: 0.2491 - accuracy: 0.9202 - val_loss: 2.1747 - val_accuracy: 0.6341\n",
            "Epoch 12/15\n",
            "1563/1563 [==============================] - 37s 24ms/step - loss: 0.2310 - accuracy: 0.9281 - val_loss: 2.3595 - val_accuracy: 0.6401\n",
            "Epoch 13/15\n",
            "1563/1563 [==============================] - 37s 24ms/step - loss: 0.2138 - accuracy: 0.9359 - val_loss: 2.0225 - val_accuracy: 0.6443\n",
            "Epoch 14/15\n",
            "1563/1563 [==============================] - 37s 24ms/step - loss: 0.2068 - accuracy: 0.9389 - val_loss: 2.1830 - val_accuracy: 0.6555\n",
            "Epoch 15/15\n",
            "1563/1563 [==============================] - 37s 24ms/step - loss: 0.1974 - accuracy: 0.9410 - val_loss: 2.1707 - val_accuracy: 0.6133\n"
          ],
          "name": "stdout"
        }
      ]
    },
    {
      "cell_type": "code",
      "metadata": {
        "id": "KFkwCFgj8S8d",
        "colab_type": "code",
        "colab": {
          "base_uri": "https://localhost:8080/",
          "height": 282
        },
        "outputId": "d213ba94-7f70-4a63-f504-4a8ce00aa1db"
      },
      "source": [
        "import matplotlib.pyplot as plt\n",
        "\n",
        "plt.plot(r.history['loss'],label='loss')\n",
        "plt.plot(r.history['val_loss'],label='val_loss')\n",
        "plt.legend()"
      ],
      "execution_count": 20,
      "outputs": [
        {
          "output_type": "execute_result",
          "data": {
            "text/plain": [
              "<matplotlib.legend.Legend at 0x7f4d3bf31390>"
            ]
          },
          "metadata": {
            "tags": []
          },
          "execution_count": 20
        },
        {
          "output_type": "display_data",
          "data": {
            "image/png": "[encoded data removed]",
            "text/plain": [
              "<Figure size 432x288 with 1 Axes>"
            ]
          },
          "metadata": {
            "tags": []
          }
        }
      ]
    },
    {
      "cell_type": "code",
      "metadata": {
        "id": "nMO_9KhA-S5F",
        "colab_type": "code",
        "colab": {
          "base_uri": "https://localhost:8080/",
          "height": 282
        },
        "outputId": "45d106b5-3fea-410a-ad79-f5c817350885"
      },
      "source": [
        "import matplotlib.pyplot as plt\n",
        "\n",
        "plt.plot(r.history['accuracy'],label='acc')\n",
        "plt.plot(r.history['val_accuracy'],label='val_acc')\n",
        "plt.legend()"
      ],
      "execution_count": 21,
      "outputs": [
        {
          "output_type": "execute_result",
          "data": {
            "text/plain": [
              "<matplotlib.legend.Legend at 0x7f4d62dfeac8>"
            ]
          },
          "metadata": {
            "tags": []
          },
          "execution_count": 21
        },
        {
          "output_type": "display_data",
          "data": {
            "image/png": "[encoded data removed]",
            "text/plain": [
              "<Figure size 432x288 with 1 Axes>"
            ]
          },
          "metadata": {
            "tags": []
          }
        }
      ]
    },
    {
      "cell_type": "code",
      "metadata": {
        "id": "ZXcBKWBp-bWI",
        "colab_type": "code",
        "colab": {}
      },
      "source": [
        ""
      ],
      "execution_count": 0,
      "outputs": []
    }
  ]
}