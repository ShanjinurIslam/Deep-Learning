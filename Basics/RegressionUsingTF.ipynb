{
  "nbformat": 4,
  "nbformat_minor": 0,
  "metadata": {
    "colab": {
      "name": "RegressionUsingTF.ipynb",
      "provenance": []
    },
    "kernelspec": {
      "name": "python3",
      "display_name": "Python 3"
    }
  },
  "cells": [
    {
      "cell_type": "code",
      "metadata": {
        "id": "9l4AvFR2wrZE",
        "colab_type": "code",
        "colab": {
          "base_uri": "https://localhost:8080/",
          "height": 34
        },
        "outputId": "c77fecd2-716c-46d0-cd5a-d47e4bea2b68"
      },
      "source": [
        "import tensorflow as tf\n",
        "print(tf.__version__)"
      ],
      "execution_count": 142,
      "outputs": [
        {
          "output_type": "stream",
          "text": [
            "2.2.0-rc2\n"
          ],
          "name": "stdout"
        }
      ]
    },
    {
      "cell_type": "markdown",
      "metadata": {
        "id": "ZGy5G298wyQ3",
        "colab_type": "text"
      },
      "source": [
        "# Basic 5 Steps\n",
        "\n",
        "1. Load the data\n",
        "2. Instantiate the model\n",
        "3. Train/fit the model\n",
        "4. Evaluate the model\n",
        "5. Change hyperparameters to improve performance\n",
        "\n",
        "In linear regression we won't use any activation function as we want to predict the value"
      ]
    },
    {
      "cell_type": "code",
      "metadata": {
        "id": "xtLE0gsIwxCS",
        "colab_type": "code",
        "colab": {}
      },
      "source": [
        "import pandas as pd\n",
        "import numpy as np\n",
        "import matplotlib.pyplot as plt\n"
      ],
      "execution_count": 0,
      "outputs": []
    },
    {
      "cell_type": "code",
      "metadata": {
        "id": "OP5-BcOp0JYa",
        "colab_type": "code",
        "colab": {
          "base_uri": "https://localhost:8080/",
          "height": 208
        },
        "outputId": "e1fb501f-48f6-458e-dd08-5d80a348d425"
      },
      "source": [
        "!wget https://raw.githubusercontent.com/lazyprogrammer/machine_learning_examples/master/tf2.0/moore.csv"
      ],
      "execution_count": 144,
      "outputs": [
        {
          "output_type": "stream",
          "text": [
            "--2020-04-04 15:57:54--  https://raw.githubusercontent.com/lazyprogrammer/machine_learning_examples/master/tf2.0/moore.csv\n",
            "Resolving raw.githubusercontent.com (raw.githubusercontent.com)... 151.101.0.133, 151.101.64.133, 151.101.128.133, ...\n",
            "Connecting to raw.githubusercontent.com (raw.githubusercontent.com)|151.101.0.133|:443... connected.\n",
            "HTTP request sent, awaiting response... 200 OK\n",
            "Length: 2302 (2.2K) [text/plain]\n",
            "Saving to: ‘moore.csv.11’\n",
            "\n",
            "\rmoore.csv.11          0%[                    ]       0  --.-KB/s               \rmoore.csv.11        100%[===================>]   2.25K  --.-KB/s    in 0s      \n",
            "\n",
            "2020-04-04 15:57:54 (46.9 MB/s) - ‘moore.csv.11’ saved [2302/2302]\n",
            "\n"
          ],
          "name": "stdout"
        }
      ]
    },
    {
      "cell_type": "code",
      "metadata": {
        "id": "jos1O9Oa0ckE",
        "colab_type": "code",
        "colab": {
          "base_uri": "https://localhost:8080/",
          "height": 293
        },
        "outputId": "5d375ce4-7c11-43d1-a1d9-652ab3dd58f5"
      },
      "source": [
        "data = pd.read_csv('moore.csv', error_bad_lines=False,header=None).values\n",
        "X = data[:,0].reshape(-1,1)\n",
        "y = data[:,1]\n",
        "plt.scatter(X,y)"
      ],
      "execution_count": 145,
      "outputs": [
        {
          "output_type": "execute_result",
          "data": {
            "text/plain": [
              "<matplotlib.collections.PathCollection at 0x7f212742b358>"
            ]
          },
          "metadata": {
            "tags": []
          },
          "execution_count": 145
        },
        {
          "output_type": "display_data",
          "data": {
            "image/png": "[encoded data removed]",
            "text/plain": [
              "<Figure size 432x288 with 1 Axes>"
            ]
          },
          "metadata": {
            "tags": []
          }
        }
      ]
    },
    {
      "cell_type": "code",
      "metadata": {
        "id": "akSmo3Yq2WL_",
        "colab_type": "code",
        "colab": {
          "base_uri": "https://localhost:8080/",
          "height": 282
        },
        "outputId": "7886c3fd-389c-4787-f16c-2b2dd427f67a"
      },
      "source": [
        "# taking log of y and centering the data \n",
        "\n",
        "X = X - X.mean()\n",
        "y = np.log(y)\n",
        "plt.scatter(X,y)\n"
      ],
      "execution_count": 146,
      "outputs": [
        {
          "output_type": "execute_result",
          "data": {
            "text/plain": [
              "<matplotlib.collections.PathCollection at 0x7f212271b978>"
            ]
          },
          "metadata": {
            "tags": []
          },
          "execution_count": 146
        },
        {
          "output_type": "display_data",
          "data": {
            "image/png": "[encoded data removed]",
            "text/plain": [
              "<Figure size 432x288 with 1 Axes>"
            ]
          },
          "metadata": {
            "tags": []
          }
        }
      ]
    },
    {
      "cell_type": "code",
      "metadata": {
        "id": "Gag634Yd2oVW",
        "colab_type": "code",
        "colab": {}
      },
      "source": [
        ""
      ],
      "execution_count": 0,
      "outputs": []
    },
    {
      "cell_type": "markdown",
      "metadata": {
        "id": "Morg7E0zy6wZ",
        "colab_type": "text"
      },
      "source": [
        "## Exponential Growth\n",
        "\n",
        "C = A<sub>0</sub>r<sup>t</sup>\n",
        "\n",
        "C = output variable/count\n",
        "\n",
        "A<sub>0</sub> = Initial Value\n",
        "\n",
        "t = time\n",
        "\n",
        "r = rate of growth\n",
        "\n",
        "\n",
        "By using log function we can make exponential function linear\n",
        "\n",
        "log C = t*log r + log A"
      ]
    },
    {
      "cell_type": "code",
      "metadata": {
        "id": "FJ8PwOl4xqCM",
        "colab_type": "code",
        "colab": {
          "base_uri": "https://localhost:8080/",
          "height": 1000
        },
        "outputId": "4afc80ae-e4eb-49b7-ce61-a6302db787db"
      },
      "source": [
        "# building model\n",
        "# loss = mean squared error\n",
        "# optimizer = stochastic gradient descent\n",
        "\n",
        "model = tf.keras.Sequential([tf.keras.layers.Input(shape=(1,)),tf.keras.layers.Dense(1)])\n",
        "model.compile(optimizer=tf.keras.optimizers.SGD(0.001,0,9),loss='mse')\n",
        "model.summary()\n",
        "\n",
        "# Learning Rate Scheduling : Modify learning rate at each epoch\n",
        "def schedule(epoch,lr):\n",
        "  if epoch >= 50:\n",
        "    return 0.0025\n",
        "  return 0.001\n",
        "\n",
        "scheduler = tf.keras.callbacks.LearningRateScheduler(schedule)\n",
        "\n",
        "r = model.fit(X,y,epochs=200,callbacks=[scheduler])"
      ],
      "execution_count": 147,
      "outputs": [
        {
          "output_type": "stream",
          "text": [
            "Model: \"sequential_11\"\n",
            "_________________________________________________________________\n",
            "Layer (type)                 Output Shape              Param #   \n",
            "=================================================================\n",
            "dense_11 (Dense)             (None, 1)                 2         \n",
            "=================================================================\n",
            "Total params: 2\n",
            "Trainable params: 2\n",
            "Non-trainable params: 0\n",
            "_________________________________________________________________\n",
            "Epoch 1/200\n",
            "6/6 [==============================] - 0s 1ms/step - loss: 459.8363 - lr: 0.0010\n",
            "Epoch 2/200\n",
            "6/6 [==============================] - 0s 1ms/step - loss: 306.2589 - lr: 0.0010\n",
            "Epoch 3/200\n",
            "6/6 [==============================] - 0s 2ms/step - loss: 304.1772 - lr: 0.0010\n",
            "Epoch 4/200\n",
            "6/6 [==============================] - 0s 2ms/step - loss: 299.3808 - lr: 0.0010\n",
            "Epoch 5/200\n",
            "6/6 [==============================] - 0s 2ms/step - loss: 298.2058 - lr: 0.0010\n",
            "Epoch 6/200\n",
            "6/6 [==============================] - 0s 2ms/step - loss: 277.6697 - lr: 0.0010\n",
            "Epoch 7/200\n",
            "6/6 [==============================] - 0s 2ms/step - loss: 278.0451 - lr: 0.0010\n",
            "Epoch 8/200\n",
            "6/6 [==============================] - 0s 1ms/step - loss: 274.4518 - lr: 0.0010\n",
            "Epoch 9/200\n",
            "6/6 [==============================] - 0s 1ms/step - loss: 262.4239 - lr: 0.0010\n",
            "Epoch 10/200\n",
            "6/6 [==============================] - 0s 1ms/step - loss: 257.0049 - lr: 0.0010\n",
            "Epoch 11/200\n",
            "6/6 [==============================] - 0s 1ms/step - loss: 247.7291 - lr: 0.0010\n",
            "Epoch 12/200\n",
            "6/6 [==============================] - 0s 1ms/step - loss: 243.9309 - lr: 0.0010\n",
            "Epoch 13/200\n",
            "6/6 [==============================] - 0s 1ms/step - loss: 236.5160 - lr: 0.0010\n",
            "Epoch 14/200\n",
            "6/6 [==============================] - 0s 1ms/step - loss: 232.9760 - lr: 0.0010\n",
            "Epoch 15/200\n",
            "6/6 [==============================] - 0s 2ms/step - loss: 232.2908 - lr: 0.0010\n",
            "Epoch 16/200\n",
            "6/6 [==============================] - 0s 1ms/step - loss: 230.5663 - lr: 0.0010\n",
            "Epoch 17/200\n",
            "6/6 [==============================] - 0s 2ms/step - loss: 209.8621 - lr: 0.0010\n",
            "Epoch 18/200\n",
            "6/6 [==============================] - 0s 2ms/step - loss: 210.6163 - lr: 0.0010\n",
            "Epoch 19/200\n",
            "6/6 [==============================] - 0s 2ms/step - loss: 205.6136 - lr: 0.0010\n",
            "Epoch 20/200\n",
            "6/6 [==============================] - 0s 2ms/step - loss: 211.2922 - lr: 0.0010\n",
            "Epoch 21/200\n",
            "6/6 [==============================] - 0s 2ms/step - loss: 192.8895 - lr: 0.0010\n",
            "Epoch 22/200\n",
            "6/6 [==============================] - 0s 2ms/step - loss: 197.4792 - lr: 0.0010\n",
            "Epoch 23/200\n",
            "6/6 [==============================] - 0s 2ms/step - loss: 184.7198 - lr: 0.0010\n",
            "Epoch 24/200\n",
            "6/6 [==============================] - 0s 1ms/step - loss: 177.0839 - lr: 0.0010\n",
            "Epoch 25/200\n",
            "6/6 [==============================] - 0s 2ms/step - loss: 172.6257 - lr: 0.0010\n",
            "Epoch 26/200\n",
            "6/6 [==============================] - 0s 1ms/step - loss: 175.5919 - lr: 0.0010\n",
            "Epoch 27/200\n",
            "6/6 [==============================] - 0s 1ms/step - loss: 175.1976 - lr: 0.0010\n",
            "Epoch 28/200\n",
            "6/6 [==============================] - 0s 1ms/step - loss: 169.5396 - lr: 0.0010\n",
            "Epoch 29/200\n",
            "6/6 [==============================] - 0s 2ms/step - loss: 163.4017 - lr: 0.0010\n",
            "Epoch 30/200\n",
            "6/6 [==============================] - 0s 2ms/step - loss: 159.3064 - lr: 0.0010\n",
            "Epoch 31/200\n",
            "6/6 [==============================] - 0s 2ms/step - loss: 155.5065 - lr: 0.0010\n",
            "Epoch 32/200\n",
            "6/6 [==============================] - 0s 2ms/step - loss: 151.5947 - lr: 0.0010\n",
            "Epoch 33/200\n",
            "6/6 [==============================] - 0s 2ms/step - loss: 153.7397 - lr: 0.0010\n",
            "Epoch 34/200\n",
            "6/6 [==============================] - 0s 2ms/step - loss: 145.7604 - lr: 0.0010\n",
            "Epoch 35/200\n",
            "6/6 [==============================] - 0s 2ms/step - loss: 141.5269 - lr: 0.0010\n",
            "Epoch 36/200\n",
            "6/6 [==============================] - 0s 2ms/step - loss: 138.3224 - lr: 0.0010\n",
            "Epoch 37/200\n",
            "6/6 [==============================] - 0s 2ms/step - loss: 132.1549 - lr: 0.0010\n",
            "Epoch 38/200\n",
            "6/6 [==============================] - 0s 2ms/step - loss: 129.9980 - lr: 0.0010\n",
            "Epoch 39/200\n",
            "6/6 [==============================] - 0s 2ms/step - loss: 131.9577 - lr: 0.0010\n",
            "Epoch 40/200\n",
            "6/6 [==============================] - 0s 2ms/step - loss: 123.4983 - lr: 0.0010\n",
            "Epoch 41/200\n",
            "6/6 [==============================] - 0s 1ms/step - loss: 121.7180 - lr: 0.0010\n",
            "Epoch 42/200\n",
            "6/6 [==============================] - 0s 2ms/step - loss: 125.1550 - lr: 0.0010\n",
            "Epoch 43/200\n",
            "6/6 [==============================] - 0s 2ms/step - loss: 116.8248 - lr: 0.0010\n",
            "Epoch 44/200\n",
            "6/6 [==============================] - 0s 2ms/step - loss: 114.4680 - lr: 0.0010\n",
            "Epoch 45/200\n",
            "6/6 [==============================] - 0s 1ms/step - loss: 104.5201 - lr: 0.0010\n",
            "Epoch 46/200\n",
            "6/6 [==============================] - 0s 2ms/step - loss: 109.8244 - lr: 0.0010\n",
            "Epoch 47/200\n",
            "6/6 [==============================] - 0s 1ms/step - loss: 107.5854 - lr: 0.0010\n",
            "Epoch 48/200\n",
            "6/6 [==============================] - 0s 1ms/step - loss: 108.2791 - lr: 0.0010\n",
            "Epoch 49/200\n",
            "6/6 [==============================] - 0s 2ms/step - loss: 99.3982 - lr: 0.0010\n",
            "Epoch 50/200\n",
            "6/6 [==============================] - 0s 2ms/step - loss: 97.2294 - lr: 0.0010\n",
            "Epoch 51/200\n",
            "6/6 [==============================] - 0s 2ms/step - loss: 93.9673 - lr: 0.0025\n",
            "Epoch 52/200\n",
            "6/6 [==============================] - 0s 2ms/step - loss: 87.7059 - lr: 0.0025\n",
            "Epoch 53/200\n",
            "6/6 [==============================] - 0s 1ms/step - loss: 93.6529 - lr: 0.0025\n",
            "Epoch 54/200\n",
            "6/6 [==============================] - 0s 2ms/step - loss: 95.8240 - lr: 0.0025\n",
            "Epoch 55/200\n",
            "6/6 [==============================] - 0s 2ms/step - loss: 74.9629 - lr: 0.0025\n",
            "Epoch 56/200\n",
            "6/6 [==============================] - 0s 2ms/step - loss: 71.1320 - lr: 0.0025\n",
            "Epoch 57/200\n",
            "6/6 [==============================] - 0s 2ms/step - loss: 60.4478 - lr: 0.0025\n",
            "Epoch 58/200\n",
            "6/6 [==============================] - 0s 1ms/step - loss: 66.3916 - lr: 0.0025\n",
            "Epoch 59/200\n",
            "6/6 [==============================] - 0s 2ms/step - loss: 75.5742 - lr: 0.0025\n",
            "Epoch 60/200\n",
            "6/6 [==============================] - 0s 2ms/step - loss: 58.4905 - lr: 0.0025\n",
            "Epoch 61/200\n",
            "6/6 [==============================] - 0s 2ms/step - loss: 53.3072 - lr: 0.0025\n",
            "Epoch 62/200\n",
            "6/6 [==============================] - 0s 2ms/step - loss: 52.0629 - lr: 0.0025\n",
            "Epoch 63/200\n",
            "6/6 [==============================] - 0s 2ms/step - loss: 47.9008 - lr: 0.0025\n",
            "Epoch 64/200\n",
            "6/6 [==============================] - 0s 2ms/step - loss: 42.1122 - lr: 0.0025\n",
            "Epoch 65/200\n",
            "6/6 [==============================] - 0s 2ms/step - loss: 46.4712 - lr: 0.0025\n",
            "Epoch 66/200\n",
            "6/6 [==============================] - 0s 2ms/step - loss: 44.1248 - lr: 0.0025\n",
            "Epoch 67/200\n",
            "6/6 [==============================] - 0s 2ms/step - loss: 37.4427 - lr: 0.0025\n",
            "Epoch 68/200\n",
            "6/6 [==============================] - 0s 2ms/step - loss: 33.4885 - lr: 0.0025\n",
            "Epoch 69/200\n",
            "6/6 [==============================] - 0s 1ms/step - loss: 31.0696 - lr: 0.0025\n",
            "Epoch 70/200\n",
            "6/6 [==============================] - 0s 2ms/step - loss: 35.1870 - lr: 0.0025\n",
            "Epoch 71/200\n",
            "6/6 [==============================] - 0s 2ms/step - loss: 27.6794 - lr: 0.0025\n",
            "Epoch 72/200\n",
            "6/6 [==============================] - 0s 2ms/step - loss: 30.2559 - lr: 0.0025\n",
            "Epoch 73/200\n",
            "6/6 [==============================] - 0s 2ms/step - loss: 29.8844 - lr: 0.0025\n",
            "Epoch 74/200\n",
            "6/6 [==============================] - 0s 2ms/step - loss: 24.6141 - lr: 0.0025\n",
            "Epoch 75/200\n",
            "6/6 [==============================] - 0s 1ms/step - loss: 28.5155 - lr: 0.0025\n",
            "Epoch 76/200\n",
            "6/6 [==============================] - 0s 2ms/step - loss: 19.2111 - lr: 0.0025\n",
            "Epoch 77/200\n",
            "6/6 [==============================] - 0s 2ms/step - loss: 23.2999 - lr: 0.0025\n",
            "Epoch 78/200\n",
            "6/6 [==============================] - 0s 2ms/step - loss: 18.4348 - lr: 0.0025\n",
            "Epoch 79/200\n",
            "6/6 [==============================] - 0s 2ms/step - loss: 19.3217 - lr: 0.0025\n",
            "Epoch 80/200\n",
            "6/6 [==============================] - 0s 2ms/step - loss: 20.3843 - lr: 0.0025\n",
            "Epoch 81/200\n",
            "6/6 [==============================] - 0s 2ms/step - loss: 17.0386 - lr: 0.0025\n",
            "Epoch 82/200\n",
            "6/6 [==============================] - 0s 2ms/step - loss: 16.0877 - lr: 0.0025\n",
            "Epoch 83/200\n",
            "6/6 [==============================] - 0s 2ms/step - loss: 15.0103 - lr: 0.0025\n",
            "Epoch 84/200\n",
            "6/6 [==============================] - 0s 1ms/step - loss: 16.8242 - lr: 0.0025\n",
            "Epoch 85/200\n",
            "6/6 [==============================] - 0s 1ms/step - loss: 15.0536 - lr: 0.0025\n",
            "Epoch 86/200\n",
            "6/6 [==============================] - 0s 2ms/step - loss: 12.3063 - lr: 0.0025\n",
            "Epoch 87/200\n",
            "6/6 [==============================] - 0s 2ms/step - loss: 11.9151 - lr: 0.0025\n",
            "Epoch 88/200\n",
            "6/6 [==============================] - 0s 2ms/step - loss: 12.0165 - lr: 0.0025\n",
            "Epoch 89/200\n",
            "6/6 [==============================] - 0s 1ms/step - loss: 10.1763 - lr: 0.0025\n",
            "Epoch 90/200\n",
            "6/6 [==============================] - 0s 1ms/step - loss: 9.1872 - lr: 0.0025\n",
            "Epoch 91/200\n",
            "6/6 [==============================] - 0s 1ms/step - loss: 10.8909 - lr: 0.0025\n",
            "Epoch 92/200\n",
            "6/6 [==============================] - 0s 2ms/step - loss: 9.0255 - lr: 0.0025\n",
            "Epoch 93/200\n",
            "6/6 [==============================] - 0s 1ms/step - loss: 9.0415 - lr: 0.0025\n",
            "Epoch 94/200\n",
            "6/6 [==============================] - 0s 2ms/step - loss: 7.7691 - lr: 0.0025\n",
            "Epoch 95/200\n",
            "6/6 [==============================] - 0s 1ms/step - loss: 7.4496 - lr: 0.0025\n",
            "Epoch 96/200\n",
            "6/6 [==============================] - 0s 1ms/step - loss: 7.9569 - lr: 0.0025\n",
            "Epoch 97/200\n",
            "6/6 [==============================] - 0s 1ms/step - loss: 6.5583 - lr: 0.0025\n",
            "Epoch 98/200\n",
            "6/6 [==============================] - 0s 2ms/step - loss: 7.8408 - lr: 0.0025\n",
            "Epoch 99/200\n",
            "6/6 [==============================] - 0s 2ms/step - loss: 5.9434 - lr: 0.0025\n",
            "Epoch 100/200\n",
            "6/6 [==============================] - 0s 1ms/step - loss: 6.2361 - lr: 0.0025\n",
            "Epoch 101/200\n",
            "6/6 [==============================] - 0s 2ms/step - loss: 6.2885 - lr: 0.0025\n",
            "Epoch 102/200\n",
            "6/6 [==============================] - 0s 1ms/step - loss: 4.9923 - lr: 0.0025\n",
            "Epoch 103/200\n",
            "6/6 [==============================] - 0s 2ms/step - loss: 5.6471 - lr: 0.0025\n",
            "Epoch 104/200\n",
            "6/6 [==============================] - 0s 1ms/step - loss: 4.9199 - lr: 0.0025\n",
            "Epoch 105/200\n",
            "6/6 [==============================] - 0s 2ms/step - loss: 4.4212 - lr: 0.0025\n",
            "Epoch 106/200\n",
            "6/6 [==============================] - 0s 1ms/step - loss: 5.7180 - lr: 0.0025\n",
            "Epoch 107/200\n",
            "6/6 [==============================] - 0s 2ms/step - loss: 4.2185 - lr: 0.0025\n",
            "Epoch 108/200\n",
            "6/6 [==============================] - 0s 2ms/step - loss: 5.4733 - lr: 0.0025\n",
            "Epoch 109/200\n",
            "6/6 [==============================] - 0s 2ms/step - loss: 3.4974 - lr: 0.0025\n",
            "Epoch 110/200\n",
            "6/6 [==============================] - 0s 2ms/step - loss: 3.5227 - lr: 0.0025\n",
            "Epoch 111/200\n",
            "6/6 [==============================] - 0s 2ms/step - loss: 3.4422 - lr: 0.0025\n",
            "Epoch 112/200\n",
            "6/6 [==============================] - 0s 1ms/step - loss: 3.2218 - lr: 0.0025\n",
            "Epoch 113/200\n",
            "6/6 [==============================] - 0s 2ms/step - loss: 3.1745 - lr: 0.0025\n",
            "Epoch 114/200\n",
            "6/6 [==============================] - 0s 3ms/step - loss: 3.4731 - lr: 0.0025\n",
            "Epoch 115/200\n",
            "6/6 [==============================] - 0s 2ms/step - loss: 3.1240 - lr: 0.0025\n",
            "Epoch 116/200\n",
            "6/6 [==============================] - 0s 2ms/step - loss: 2.7782 - lr: 0.0025\n",
            "Epoch 117/200\n",
            "6/6 [==============================] - 0s 2ms/step - loss: 3.0724 - lr: 0.0025\n",
            "Epoch 118/200\n",
            "6/6 [==============================] - 0s 2ms/step - loss: 2.5474 - lr: 0.0025\n",
            "Epoch 119/200\n",
            "6/6 [==============================] - 0s 2ms/step - loss: 2.5716 - lr: 0.0025\n",
            "Epoch 120/200\n",
            "6/6 [==============================] - 0s 2ms/step - loss: 2.3723 - lr: 0.0025\n",
            "Epoch 121/200\n",
            "6/6 [==============================] - 0s 1ms/step - loss: 2.3921 - lr: 0.0025\n",
            "Epoch 122/200\n",
            "6/6 [==============================] - 0s 2ms/step - loss: 2.2997 - lr: 0.0025\n",
            "Epoch 123/200\n",
            "6/6 [==============================] - 0s 2ms/step - loss: 2.0550 - lr: 0.0025\n",
            "Epoch 124/200\n",
            "6/6 [==============================] - 0s 2ms/step - loss: 1.7534 - lr: 0.0025\n",
            "Epoch 125/200\n",
            "6/6 [==============================] - 0s 2ms/step - loss: 1.8186 - lr: 0.0025\n",
            "Epoch 126/200\n",
            "6/6 [==============================] - 0s 2ms/step - loss: 1.7786 - lr: 0.0025\n",
            "Epoch 127/200\n",
            "6/6 [==============================] - 0s 1ms/step - loss: 1.8185 - lr: 0.0025\n",
            "Epoch 128/200\n",
            "6/6 [==============================] - 0s 2ms/step - loss: 1.7586 - lr: 0.0025\n",
            "Epoch 129/200\n",
            "6/6 [==============================] - 0s 2ms/step - loss: 1.6776 - lr: 0.0025\n",
            "Epoch 130/200\n",
            "6/6 [==============================] - 0s 2ms/step - loss: 1.8176 - lr: 0.0025\n",
            "Epoch 131/200\n",
            "6/6 [==============================] - 0s 1ms/step - loss: 2.2992 - lr: 0.0025\n",
            "Epoch 132/200\n",
            "6/6 [==============================] - 0s 2ms/step - loss: 1.5863 - lr: 0.0025\n",
            "Epoch 133/200\n",
            "6/6 [==============================] - 0s 2ms/step - loss: 1.3584 - lr: 0.0025\n",
            "Epoch 134/200\n",
            "6/6 [==============================] - 0s 1ms/step - loss: 1.4135 - lr: 0.0025\n",
            "Epoch 135/200\n",
            "6/6 [==============================] - 0s 1ms/step - loss: 1.2688 - lr: 0.0025\n",
            "Epoch 136/200\n",
            "6/6 [==============================] - 0s 2ms/step - loss: 1.5145 - lr: 0.0025\n",
            "Epoch 137/200\n",
            "6/6 [==============================] - 0s 2ms/step - loss: 1.2490 - lr: 0.0025\n",
            "Epoch 138/200\n",
            "6/6 [==============================] - 0s 2ms/step - loss: 1.4349 - lr: 0.0025\n",
            "Epoch 139/200\n",
            "6/6 [==============================] - 0s 1ms/step - loss: 1.1619 - lr: 0.0025\n",
            "Epoch 140/200\n",
            "6/6 [==============================] - 0s 2ms/step - loss: 1.4446 - lr: 0.0025\n",
            "Epoch 141/200\n",
            "6/6 [==============================] - 0s 1ms/step - loss: 1.5486 - lr: 0.0025\n",
            "Epoch 142/200\n",
            "6/6 [==============================] - 0s 1ms/step - loss: 1.4364 - lr: 0.0025\n",
            "Epoch 143/200\n",
            "6/6 [==============================] - 0s 1ms/step - loss: 1.6806 - lr: 0.0025\n",
            "Epoch 144/200\n",
            "6/6 [==============================] - 0s 1ms/step - loss: 1.1551 - lr: 0.0025\n",
            "Epoch 145/200\n",
            "6/6 [==============================] - 0s 2ms/step - loss: 1.2402 - lr: 0.0025\n",
            "Epoch 146/200\n",
            "6/6 [==============================] - 0s 1ms/step - loss: 1.4291 - lr: 0.0025\n",
            "Epoch 147/200\n",
            "6/6 [==============================] - 0s 2ms/step - loss: 1.2032 - lr: 0.0025\n",
            "Epoch 148/200\n",
            "6/6 [==============================] - 0s 1ms/step - loss: 1.0761 - lr: 0.0025\n",
            "Epoch 149/200\n",
            "6/6 [==============================] - 0s 2ms/step - loss: 1.1269 - lr: 0.0025\n",
            "Epoch 150/200\n",
            "6/6 [==============================] - 0s 2ms/step - loss: 1.4316 - lr: 0.0025\n",
            "Epoch 151/200\n",
            "6/6 [==============================] - 0s 1ms/step - loss: 1.7680 - lr: 0.0025\n",
            "Epoch 152/200\n",
            "6/6 [==============================] - 0s 2ms/step - loss: 1.2304 - lr: 0.0025\n",
            "Epoch 153/200\n",
            "6/6 [==============================] - 0s 1ms/step - loss: 1.0487 - lr: 0.0025\n",
            "Epoch 154/200\n",
            "6/6 [==============================] - 0s 1ms/step - loss: 0.9415 - lr: 0.0025\n",
            "Epoch 155/200\n",
            "6/6 [==============================] - 0s 1ms/step - loss: 1.0179 - lr: 0.0025\n",
            "Epoch 156/200\n",
            "6/6 [==============================] - 0s 1ms/step - loss: 1.4205 - lr: 0.0025\n",
            "Epoch 157/200\n",
            "6/6 [==============================] - 0s 1ms/step - loss: 1.0039 - lr: 0.0025\n",
            "Epoch 158/200\n",
            "6/6 [==============================] - 0s 1ms/step - loss: 0.9112 - lr: 0.0025\n",
            "Epoch 159/200\n",
            "6/6 [==============================] - 0s 1ms/step - loss: 0.9285 - lr: 0.0025\n",
            "Epoch 160/200\n",
            "6/6 [==============================] - 0s 1ms/step - loss: 0.8749 - lr: 0.0025\n",
            "Epoch 161/200\n",
            "6/6 [==============================] - 0s 2ms/step - loss: 0.9303 - lr: 0.0025\n",
            "Epoch 162/200\n",
            "6/6 [==============================] - 0s 2ms/step - loss: 1.1133 - lr: 0.0025\n",
            "Epoch 163/200\n",
            "6/6 [==============================] - 0s 2ms/step - loss: 1.1884 - lr: 0.0025\n",
            "Epoch 164/200\n",
            "6/6 [==============================] - 0s 1ms/step - loss: 0.9888 - lr: 0.0025\n",
            "Epoch 165/200\n",
            "6/6 [==============================] - 0s 2ms/step - loss: 1.1760 - lr: 0.0025\n",
            "Epoch 166/200\n",
            "6/6 [==============================] - 0s 1ms/step - loss: 0.9557 - lr: 0.0025\n",
            "Epoch 167/200\n",
            "6/6 [==============================] - 0s 1ms/step - loss: 0.8709 - lr: 0.0025\n",
            "Epoch 168/200\n",
            "6/6 [==============================] - 0s 2ms/step - loss: 0.9336 - lr: 0.0025\n",
            "Epoch 169/200\n",
            "6/6 [==============================] - 0s 1ms/step - loss: 0.8266 - lr: 0.0025\n",
            "Epoch 170/200\n",
            "6/6 [==============================] - 0s 1ms/step - loss: 0.9022 - lr: 0.0025\n",
            "Epoch 171/200\n",
            "6/6 [==============================] - 0s 1ms/step - loss: 0.8572 - lr: 0.0025\n",
            "Epoch 172/200\n",
            "6/6 [==============================] - 0s 2ms/step - loss: 0.9609 - lr: 0.0025\n",
            "Epoch 173/200\n",
            "6/6 [==============================] - 0s 2ms/step - loss: 0.8913 - lr: 0.0025\n",
            "Epoch 174/200\n",
            "6/6 [==============================] - 0s 1ms/step - loss: 0.9060 - lr: 0.0025\n",
            "Epoch 175/200\n",
            "6/6 [==============================] - 0s 2ms/step - loss: 1.0855 - lr: 0.0025\n",
            "Epoch 176/200\n",
            "6/6 [==============================] - 0s 1ms/step - loss: 0.9203 - lr: 0.0025\n",
            "Epoch 177/200\n",
            "6/6 [==============================] - 0s 2ms/step - loss: 0.7944 - lr: 0.0025\n",
            "Epoch 178/200\n",
            "6/6 [==============================] - 0s 1ms/step - loss: 1.1483 - lr: 0.0025\n",
            "Epoch 179/200\n",
            "6/6 [==============================] - 0s 1ms/step - loss: 0.8759 - lr: 0.0025\n",
            "Epoch 180/200\n",
            "6/6 [==============================] - 0s 1ms/step - loss: 0.9079 - lr: 0.0025\n",
            "Epoch 181/200\n",
            "6/6 [==============================] - 0s 1ms/step - loss: 1.6012 - lr: 0.0025\n",
            "Epoch 182/200\n",
            "6/6 [==============================] - 0s 2ms/step - loss: 1.8217 - lr: 0.0025\n",
            "Epoch 183/200\n",
            "6/6 [==============================] - 0s 1ms/step - loss: 1.4744 - lr: 0.0025\n",
            "Epoch 184/200\n",
            "6/6 [==============================] - 0s 2ms/step - loss: 0.8717 - lr: 0.0025\n",
            "Epoch 185/200\n",
            "6/6 [==============================] - 0s 2ms/step - loss: 0.9852 - lr: 0.0025\n",
            "Epoch 186/200\n",
            "6/6 [==============================] - 0s 2ms/step - loss: 1.0023 - lr: 0.0025\n",
            "Epoch 187/200\n",
            "6/6 [==============================] - 0s 1ms/step - loss: 1.1358 - lr: 0.0025\n",
            "Epoch 188/200\n",
            "6/6 [==============================] - 0s 1ms/step - loss: 1.0026 - lr: 0.0025\n",
            "Epoch 189/200\n",
            "6/6 [==============================] - 0s 1ms/step - loss: 0.8215 - lr: 0.0025\n",
            "Epoch 190/200\n",
            "6/6 [==============================] - 0s 2ms/step - loss: 0.8119 - lr: 0.0025\n",
            "Epoch 191/200\n",
            "6/6 [==============================] - 0s 1ms/step - loss: 1.0199 - lr: 0.0025\n",
            "Epoch 192/200\n",
            "6/6 [==============================] - 0s 2ms/step - loss: 0.8520 - lr: 0.0025\n",
            "Epoch 193/200\n",
            "6/6 [==============================] - 0s 2ms/step - loss: 0.8920 - lr: 0.0025\n",
            "Epoch 194/200\n",
            "6/6 [==============================] - 0s 1ms/step - loss: 0.9688 - lr: 0.0025\n",
            "Epoch 195/200\n",
            "6/6 [==============================] - 0s 1ms/step - loss: 0.9574 - lr: 0.0025\n",
            "Epoch 196/200\n",
            "6/6 [==============================] - 0s 1ms/step - loss: 0.8748 - lr: 0.0025\n",
            "Epoch 197/200\n",
            "6/6 [==============================] - 0s 1ms/step - loss: 0.8510 - lr: 0.0025\n",
            "Epoch 198/200\n",
            "6/6 [==============================] - 0s 2ms/step - loss: 0.8205 - lr: 0.0025\n",
            "Epoch 199/200\n",
            "6/6 [==============================] - 0s 2ms/step - loss: 0.8119 - lr: 0.0025\n",
            "Epoch 200/200\n",
            "6/6 [==============================] - 0s 2ms/step - loss: 1.2051 - lr: 0.0025\n"
          ],
          "name": "stdout"
        }
      ]
    },
    {
      "cell_type": "code",
      "metadata": {
        "id": "npwR-KUY3Hvw",
        "colab_type": "code",
        "colab": {
          "base_uri": "https://localhost:8080/",
          "height": 282
        },
        "outputId": "15e1e22d-0d6b-4fdf-d43e-a3f1c940a566"
      },
      "source": [
        "plt.plot(r.history['loss'],label='loss')"
      ],
      "execution_count": 148,
      "outputs": [
        {
          "output_type": "execute_result",
          "data": {
            "text/plain": [
              "[<matplotlib.lines.Line2D at 0x7f2125e0af28>]"
            ]
          },
          "metadata": {
            "tags": []
          },
          "execution_count": 148
        },
        {
          "output_type": "display_data",
          "data": {
            "image/png": "[encoded data removed]",
            "text/plain": [
              "<Figure size 432x288 with 1 Axes>"
            ]
          },
          "metadata": {
            "tags": []
          }
        }
      ]
    },
    {
      "cell_type": "code",
      "metadata": {
        "id": "DhzUK-uC3RF-",
        "colab_type": "code",
        "colab": {
          "base_uri": "https://localhost:8080/",
          "height": 34
        },
        "outputId": "65d80ff4-4821-409b-daa3-a478ff3d32eb"
      },
      "source": [
        "print(model.layers[0].get_weights())"
      ],
      "execution_count": 149,
      "outputs": [
        {
          "output_type": "stream",
          "text": [
            "[array([[0.3693551]], dtype=float32), array([17.67005], dtype=float32)]\n"
          ],
          "name": "stdout"
        }
      ]
    },
    {
      "cell_type": "code",
      "metadata": {
        "id": "6JSgZZvI3oqh",
        "colab_type": "code",
        "colab": {
          "base_uri": "https://localhost:8080/",
          "height": 34
        },
        "outputId": "6a37be73-1cb1-4a5c-e699-6a16e565754b"
      },
      "source": [
        "w = model.layers[0].get_weights()[0][0,0]\n",
        "b = model.layers[0].get_weights()[1][0]\n",
        "w,b "
      ],
      "execution_count": 150,
      "outputs": [
        {
          "output_type": "execute_result",
          "data": {
            "text/plain": [
              "(0.3693551, 17.67005)"
            ]
          },
          "metadata": {
            "tags": []
          },
          "execution_count": 150
        }
      ]
    },
    {
      "cell_type": "code",
      "metadata": {
        "id": "Uq9ooxhm5KJS",
        "colab_type": "code",
        "colab": {
          "base_uri": "https://localhost:8080/",
          "height": 282
        },
        "outputId": "fb5f34ff-a60b-4dba-dca6-dfbb5fdf2c4d"
      },
      "source": [
        "plt.scatter(X,y)\n",
        "plt.plot(X,w*X+b,'grey')"
      ],
      "execution_count": 151,
      "outputs": [
        {
          "output_type": "execute_result",
          "data": {
            "text/plain": [
              "[<matplotlib.lines.Line2D at 0x7f212155a198>]"
            ]
          },
          "metadata": {
            "tags": []
          },
          "execution_count": 151
        },
        {
          "output_type": "display_data",
          "data": {
            "image/png": "[encoded data removed]",
            "text/plain": [
              "<Figure size 432x288 with 1 Axes>"
            ]
          },
          "metadata": {
            "tags": []
          }
        }
      ]
    },
    {
      "cell_type": "code",
      "metadata": {
        "id": "k9scRiR05SbE",
        "colab_type": "code",
        "colab": {}
      },
      "source": [
        ""
      ],
      "execution_count": 0,
      "outputs": []
    }
  ]
}