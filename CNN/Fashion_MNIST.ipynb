{
  "nbformat": 4,
  "nbformat_minor": 0,
  "metadata": {
    "colab": {
      "name": "Fashion MNIST.ipynb",
      "provenance": [],
      "collapsed_sections": []
    },
    "kernelspec": {
      "name": "python3",
      "display_name": "Python 3"
    },
    "accelerator": "GPU"
  },
  "cells": [
    {
      "cell_type": "markdown",
      "metadata": {
        "id": "e8M2fapGxU0e",
        "colab_type": "text"
      },
      "source": [
        "# CNN Code Propagation\n",
        "\n",
        "Step #1 : Load in the data\n",
        "\n",
        "          28x28 Greyscale Image\n",
        "          Fashion Element Labels\n",
        "\n",
        "Step #2 : Build the model (Functional API)\n",
        "\n",
        "          Convolution -> Pooling -> Dense Layers\n",
        "\n",
        "Step #3 : Train the model\n",
        "\n",
        "Step #4 : Evaluate the model\n",
        "\n",
        "Step #5 : Make Predictions"
      ]
    },
    {
      "cell_type": "markdown",
      "metadata": {
        "id": "8sE7WANNyOo9",
        "colab_type": "text"
      },
      "source": [
        "## Loading in the data"
      ]
    },
    {
      "cell_type": "code",
      "metadata": {
        "id": "NfXz3wm-yQox",
        "colab_type": "code",
        "colab": {
          "base_uri": "https://localhost:8080/",
          "height": 176
        },
        "outputId": "46cb3b4f-2feb-46f2-ec1b-ec25bc9ac576"
      },
      "source": [
        "import tensorflow as tf\n",
        "import numpy as np\n",
        "\n",
        "(X_train,y_train) , (X_test,y_test) = tf.keras.datasets.fashion_mnist.load_data()\n",
        "X_train,X_test = X_train/255.0,X_test/255.0"
      ],
      "execution_count": 1,
      "outputs": [
        {
          "output_type": "stream",
          "text": [
            "Downloading data from https://storage.googleapis.com/tensorflow/tf-keras-datasets/train-labels-idx1-ubyte.gz\n",
            "32768/29515 [=================================] - 0s 0us/step\n",
            "Downloading data from https://storage.googleapis.com/tensorflow/tf-keras-datasets/train-images-idx3-ubyte.gz\n",
            "26427392/26421880 [==============================] - 0s 0us/step\n",
            "Downloading data from https://storage.googleapis.com/tensorflow/tf-keras-datasets/t10k-labels-idx1-ubyte.gz\n",
            "8192/5148 [===============================================] - 0s 0us/step\n",
            "Downloading data from https://storage.googleapis.com/tensorflow/tf-keras-datasets/t10k-images-idx3-ubyte.gz\n",
            "4423680/4422102 [==============================] - 0s 0us/step\n"
          ],
          "name": "stdout"
        }
      ]
    },
    {
      "cell_type": "code",
      "metadata": {
        "id": "4hU5bOYhz76C",
        "colab_type": "code",
        "colab": {
          "base_uri": "https://localhost:8080/",
          "height": 34
        },
        "outputId": "49b95e03-6e33-4d6b-901a-668eca1a1061"
      },
      "source": [
        " # to use in CNN we need to add at least single level of color channel\n",
        "\n",
        " # So we have to reshape it to N*28*28*1\n",
        "\n",
        "X_train = np.expand_dims(X_train,-1)\n",
        "X_test = np.expand_dims(X_test,-1)\n",
        "\n",
        "K = len(set(y_train))\n",
        "print('Number of classes : ',K)"
      ],
      "execution_count": 2,
      "outputs": [
        {
          "output_type": "stream",
          "text": [
            "Number of classes :  10\n"
          ],
          "name": "stdout"
        }
      ]
    },
    {
      "cell_type": "markdown",
      "metadata": {
        "id": "G7x_pjjD0cc8",
        "colab_type": "text"
      },
      "source": [
        "## Build the model\n",
        "\n",
        "* Functional API\n",
        "\n",
        "Reasons to use functional API:\n",
        "\n",
        "1. It looks cleaner\n",
        "2. Easy to create branches\n",
        "3. Models with multiple inputs and outputs"
      ]
    },
    {
      "cell_type": "code",
      "metadata": {
        "id": "duSrbenQ1ip2",
        "colab_type": "code",
        "colab": {}
      },
      "source": [
        "#Building model using functional api\n",
        "\n",
        "from tensorflow.keras.layers import Input,Conv2D,Dense,Flatten,Dropout\n",
        "from tensorflow.keras.models import Model\n",
        "\n",
        "i = Input(shape=X_train[0].shape)\n",
        "x = Conv2D(32,(3,3),strides=2,activation='relu')(i)\n",
        "x = Conv2D(64,(3,3),strides=2,activation='relu')(x)\n",
        "x = Conv2D(128,(3,3),strides=2,activation='relu')(x)\n",
        "x = Flatten()(x)\n",
        "x = Dropout(.2)(x)\n",
        "x = Dense(512,activation='relu')(x)\n",
        "x = Dropout(.2)(x)\n",
        "x = Dense(K,activation='softmax')(x)\n",
        "\n",
        "model = Model(i,x)"
      ],
      "execution_count": 0,
      "outputs": []
    },
    {
      "cell_type": "code",
      "metadata": {
        "id": "pSw0EMYv3Dkb",
        "colab_type": "code",
        "colab": {}
      },
      "source": [
        "# compile model\n",
        "model.compile(optimizer='adam',loss='sparse_categorical_crossentropy',metrics=['accuracy'])"
      ],
      "execution_count": 0,
      "outputs": []
    },
    {
      "cell_type": "code",
      "metadata": {
        "id": "-eCX1Bi24SMG",
        "colab_type": "code",
        "colab": {
          "base_uri": "https://localhost:8080/",
          "height": 558
        },
        "outputId": "d57b8f69-2ac2-4b4a-f461-13c3a920d056"
      },
      "source": [
        "# fit the model\n",
        "\n",
        "r = model.fit(X_train,y_train,validation_data=(X_test,y_test),epochs=15)"
      ],
      "execution_count": 7,
      "outputs": [
        {
          "output_type": "stream",
          "text": [
            "Epoch 1/15\n",
            "1875/1875 [==============================] - 6s 3ms/step - loss: 0.5171 - accuracy: 0.8083 - val_loss: 0.4011 - val_accuracy: 0.8489\n",
            "Epoch 2/15\n",
            "1875/1875 [==============================] - 6s 3ms/step - loss: 0.3622 - accuracy: 0.8627 - val_loss: 0.3770 - val_accuracy: 0.8590\n",
            "Epoch 3/15\n",
            "1875/1875 [==============================] - 6s 3ms/step - loss: 0.3129 - accuracy: 0.8811 - val_loss: 0.3300 - val_accuracy: 0.8789\n",
            "Epoch 4/15\n",
            "1875/1875 [==============================] - 6s 3ms/step - loss: 0.2785 - accuracy: 0.8932 - val_loss: 0.3150 - val_accuracy: 0.8835\n",
            "Epoch 5/15\n",
            "1875/1875 [==============================] - 6s 3ms/step - loss: 0.2524 - accuracy: 0.9043 - val_loss: 0.2953 - val_accuracy: 0.8893\n",
            "Epoch 6/15\n",
            "1875/1875 [==============================] - 6s 3ms/step - loss: 0.2344 - accuracy: 0.9110 - val_loss: 0.3049 - val_accuracy: 0.8886\n",
            "Epoch 7/15\n",
            "1875/1875 [==============================] - 6s 3ms/step - loss: 0.2152 - accuracy: 0.9184 - val_loss: 0.2860 - val_accuracy: 0.8967\n",
            "Epoch 8/15\n",
            "1875/1875 [==============================] - 6s 3ms/step - loss: 0.2005 - accuracy: 0.9241 - val_loss: 0.2818 - val_accuracy: 0.8989\n",
            "Epoch 9/15\n",
            "1875/1875 [==============================] - 6s 3ms/step - loss: 0.1845 - accuracy: 0.9296 - val_loss: 0.2987 - val_accuracy: 0.8988\n",
            "Epoch 10/15\n",
            "1875/1875 [==============================] - 6s 3ms/step - loss: 0.1746 - accuracy: 0.9329 - val_loss: 0.3283 - val_accuracy: 0.8951\n",
            "Epoch 11/15\n",
            "1875/1875 [==============================] - 6s 3ms/step - loss: 0.1618 - accuracy: 0.9381 - val_loss: 0.3196 - val_accuracy: 0.8965\n",
            "Epoch 12/15\n",
            "1875/1875 [==============================] - 6s 3ms/step - loss: 0.1536 - accuracy: 0.9413 - val_loss: 0.3443 - val_accuracy: 0.8980\n",
            "Epoch 13/15\n",
            "1875/1875 [==============================] - 6s 3ms/step - loss: 0.1409 - accuracy: 0.9452 - val_loss: 0.3416 - val_accuracy: 0.8989\n",
            "Epoch 14/15\n",
            "1875/1875 [==============================] - 6s 3ms/step - loss: 0.1377 - accuracy: 0.9480 - val_loss: 0.3316 - val_accuracy: 0.9009\n",
            "Epoch 15/15\n",
            "1875/1875 [==============================] - 6s 3ms/step - loss: 0.1296 - accuracy: 0.9505 - val_loss: 0.3747 - val_accuracy: 0.8984\n"
          ],
          "name": "stdout"
        }
      ]
    },
    {
      "cell_type": "code",
      "metadata": {
        "id": "zMwQIvVs4m77",
        "colab_type": "code",
        "colab": {
          "base_uri": "https://localhost:8080/",
          "height": 282
        },
        "outputId": "993b36ab-432e-4304-8790-5cd00b16f5ae"
      },
      "source": [
        "import matplotlib.pyplot as plt\n",
        "\n",
        "plt.plot(r.history['loss'],label='loss')\n",
        "plt.plot(r.history['val_loss'],label='val_loss')\n",
        "plt.legend()"
      ],
      "execution_count": 8,
      "outputs": [
        {
          "output_type": "execute_result",
          "data": {
            "text/plain": [
              "<matplotlib.legend.Legend at 0x7fa5664c17b8>"
            ]
          },
          "metadata": {
            "tags": []
          },
          "execution_count": 8
        },
        {
          "output_type": "display_data",
          "data": {
            "image/png": "[encoded data removed]",
            "text/plain": [
              "<Figure size 432x288 with 1 Axes>"
            ]
          },
          "metadata": {
            "tags": []
          }
        }
      ]
    },
    {
      "cell_type": "code",
      "metadata": {
        "id": "jf534Cpb5HsD",
        "colab_type": "code",
        "colab": {
          "base_uri": "https://localhost:8080/",
          "height": 282
        },
        "outputId": "a64196a8-5ac0-48df-dd1d-12ca636ac6d1"
      },
      "source": [
        "import matplotlib.pyplot as plt\n",
        "\n",
        "plt.plot(r.history['accuracy'],label='acc')\n",
        "plt.plot(r.history['val_accuracy'],label='val_acc')\n",
        "plt.legend()"
      ],
      "execution_count": 9,
      "outputs": [
        {
          "output_type": "execute_result",
          "data": {
            "text/plain": [
              "<matplotlib.legend.Legend at 0x7fa557459208>"
            ]
          },
          "metadata": {
            "tags": []
          },
          "execution_count": 9
        },
        {
          "output_type": "display_data",
          "data": {
            "image/png": "[encoded data removed]",
            "text/plain": [
              "<Figure size 432x288 with 1 Axes>"
            ]
          },
          "metadata": {
            "tags": []
          }
        }
      ]
    },
    {
      "cell_type": "code",
      "metadata": {
        "id": "asoDhkOF5ONJ",
        "colab_type": "code",
        "colab": {}
      },
      "source": [
        ""
      ],
      "execution_count": 0,
      "outputs": []
    }
  ]
}