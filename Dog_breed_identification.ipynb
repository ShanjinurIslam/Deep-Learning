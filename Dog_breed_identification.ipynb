{
  "nbformat": 4,
  "nbformat_minor": 0,
  "metadata": {
    "colab": {
      "name": "Dog_breed_identification.ipynb",
      "provenance": [],
      "collapsed_sections": [],
      "mount_file_id": "1qrqeH8qfm4seUKQtztHcT8_YajyHlSmt",
      "authorship_tag": "ABX9TyPWV0+8gMrPiGTssnbiz8w6",
      "include_colab_link": true
    },
    "kernelspec": {
      "name": "python3",
      "display_name": "Python 3"
    },
    "accelerator": "GPU"
  },
  "cells": [
    {
      "cell_type": "markdown",
      "metadata": {
        "id": "view-in-github",
        "colab_type": "text"
      },
      "source": [
        "<a href=\"https://colab.research.google.com/github/ShanjinurIslam/Deep-Learning/blob/master/Dog_breed_identification.ipynb\" target=\"_parent\"><img src=\"https://colab.research.google.com/assets/colab-badge.svg\" alt=\"Open In Colab\"/></a>"
      ]
    },
    {
      "cell_type": "markdown",
      "metadata": {
        "id": "uISoGZ_VmA1o",
        "colab_type": "text"
      },
      "source": [
        "# Dog breed identification\n",
        "\n",
        "This notebook builds an end-to-end multi-class image classifier using TensorFlow 2.0 and TensorFlow Hub\n",
        "\n",
        "##1. Problem\n",
        "\n",
        "Identifying Breed of a dog given an image of a dog\n",
        "\n",
        "##2. Data\n",
        "\n",
        "The data we're using is from Kaggle's dog breed indentification competition\n",
        "\n",
        "##3. Evaluation\n",
        "\n",
        "Prediction Probabilities for each dog breed of each test image\n",
        "\n",
        "##4. Features\n",
        "\n",
        "* Images\n",
        "* Unstructured Data"
      ]
    },
    {
      "cell_type": "markdown",
      "metadata": {
        "id": "DOrGfOA7ocAH",
        "colab_type": "text"
      },
      "source": [
        "### Get our workspace ready\n",
        "\n",
        "1.   Import TensorFlow\n",
        "2.   Import TensorFlow Hub\n",
        "3.   Make sure we're using a GPU\n",
        "\n",
        "\n"
      ]
    },
    {
      "cell_type": "code",
      "metadata": {
        "id": "1AEPonRAmC35",
        "colab_type": "code",
        "colab": {
          "base_uri": "https://localhost:8080/",
          "height": 69
        },
        "outputId": "23ccf5f3-d496-4bc5-82cf-e9abed572ffd"
      },
      "source": [
        "# import TensorFlow into Colab\n",
        "import numpy as np\n",
        "\n",
        "\n",
        "import tensorflow as tf\n",
        "print(\"TF Version: \",tf.__version__)\n",
        "\n",
        "import tensorflow_hub as hub\n",
        "print(\"TF Version: \",hub.__version__)\n",
        "\n",
        "\n",
        "# Check for GPU Availibility\n",
        "\n",
        "print(tf.config.list_physical_devices(\"GPU\"))"
      ],
      "execution_count": 221,
      "outputs": [
        {
          "output_type": "stream",
          "text": [
            "TF Version:  2.2.0-rc1\n",
            "TF Version:  0.7.0\n",
            "[PhysicalDevice(name='/physical_device:GPU:0', device_type='GPU')]\n"
          ],
          "name": "stdout"
        }
      ]
    },
    {
      "cell_type": "markdown",
      "metadata": {
        "id": "T-4dHoiCqwv_",
        "colab_type": "text"
      },
      "source": [
        " ## Getting our data ready (turning in Tensors)\n",
        "\n",
        " Turning our images in tensors (numerical representation)"
      ]
    },
    {
      "cell_type": "code",
      "metadata": {
        "id": "BV4f3WfHqxyg",
        "colab_type": "code",
        "colab": {
          "base_uri": "https://localhost:8080/",
          "height": 139
        },
        "outputId": "5dae270e-e9f6-402e-9db9-2c2d85805e45"
      },
      "source": [
        "import pandas as pd\n",
        "labels_csv = pd.read_csv(\"drive/My Drive/Dog Breed Identification/labels.csv\")\n",
        "labels_csv.info()"
      ],
      "execution_count": 222,
      "outputs": [
        {
          "output_type": "stream",
          "text": [
            "<class 'pandas.core.frame.DataFrame'>\n",
            "RangeIndex: 10222 entries, 0 to 10221\n",
            "Data columns (total 2 columns):\n",
            "id       10222 non-null object\n",
            "breed    10222 non-null object\n",
            "dtypes: object(2)\n",
            "memory usage: 159.8+ KB\n"
          ],
          "name": "stdout"
        }
      ]
    },
    {
      "cell_type": "code",
      "metadata": {
        "id": "r7Lv2oTMrKBL",
        "colab_type": "code",
        "colab": {
          "base_uri": "https://localhost:8080/",
          "height": 206
        },
        "outputId": "de1e190d-6bbb-42d3-a944-03f651cf3ff2"
      },
      "source": [
        "labels_csv.head()"
      ],
      "execution_count": 223,
      "outputs": [
        {
          "output_type": "execute_result",
          "data": {
            "text/html": [
              "<div>\n",
              "<style scoped>\n",
              "    .dataframe tbody tr th:only-of-type {\n",
              "        vertical-align: middle;\n",
              "    }\n",
              "\n",
              "    .dataframe tbody tr th {\n",
              "        vertical-align: top;\n",
              "    }\n",
              "\n",
              "    .dataframe thead th {\n",
              "        text-align: right;\n",
              "    }\n",
              "</style>\n",
              "<table border=\"1\" class=\"dataframe\">\n",
              "  <thead>\n",
              "    <tr style=\"text-align: right;\">\n",
              "      <th></th>\n",
              "      <th>id</th>\n",
              "      <th>breed</th>\n",
              "    </tr>\n",
              "  </thead>\n",
              "  <tbody>\n",
              "    <tr>\n",
              "      <th>0</th>\n",
              "      <td>000bec180eb18c7604dcecc8fe0dba07</td>\n",
              "      <td>boston_bull</td>\n",
              "    </tr>\n",
              "    <tr>\n",
              "      <th>1</th>\n",
              "      <td>001513dfcb2ffafc82cccf4d8bbaba97</td>\n",
              "      <td>dingo</td>\n",
              "    </tr>\n",
              "    <tr>\n",
              "      <th>2</th>\n",
              "      <td>001cdf01b096e06d78e9e5112d419397</td>\n",
              "      <td>pekinese</td>\n",
              "    </tr>\n",
              "    <tr>\n",
              "      <th>3</th>\n",
              "      <td>00214f311d5d2247d5dfe4fe24b2303d</td>\n",
              "      <td>bluetick</td>\n",
              "    </tr>\n",
              "    <tr>\n",
              "      <th>4</th>\n",
              "      <td>0021f9ceb3235effd7fcde7f7538ed62</td>\n",
              "      <td>golden_retriever</td>\n",
              "    </tr>\n",
              "  </tbody>\n",
              "</table>\n",
              "</div>"
            ],
            "text/plain": [
              "                                 id             breed\n",
              "0  000bec180eb18c7604dcecc8fe0dba07       boston_bull\n",
              "1  001513dfcb2ffafc82cccf4d8bbaba97             dingo\n",
              "2  001cdf01b096e06d78e9e5112d419397          pekinese\n",
              "3  00214f311d5d2247d5dfe4fe24b2303d          bluetick\n",
              "4  0021f9ceb3235effd7fcde7f7538ed62  golden_retriever"
            ]
          },
          "metadata": {
            "tags": []
          },
          "execution_count": 223
        }
      ]
    },
    {
      "cell_type": "code",
      "metadata": {
        "id": "S7T5Ws2rrT_3",
        "colab_type": "code",
        "colab": {
          "base_uri": "https://localhost:8080/",
          "height": 553
        },
        "outputId": "ee4137b6-b7ff-4198-8038-4f90570e3085"
      },
      "source": [
        "labels_csv.breed.value_counts().plot.bar(figsize=(20,10))"
      ],
      "execution_count": 224,
      "outputs": [
        {
          "output_type": "execute_result",
          "data": {
            "text/plain": [
              "<matplotlib.axes._subplots.AxesSubplot at 0x7f78e8dd8908>"
            ]
          },
          "metadata": {
            "tags": []
          },
          "execution_count": 224
        },
        {
          "output_type": "display_data",
          "data": {
            "image/png": "[encoded data removed]",
            "text/plain": [
              "<Figure size 1440x720 with 1 Axes>"
            ]
          },
          "metadata": {
            "tags": []
          }
        }
      ]
    },
    {
      "cell_type": "code",
      "metadata": {
        "id": "lId33YZ6rkkV",
        "colab_type": "code",
        "colab": {
          "base_uri": "https://localhost:8080/",
          "height": 34
        },
        "outputId": "25f5a71a-4a78-4d13-e2a2-a6e8332b56d8"
      },
      "source": [
        "labels_csv.breed.value_counts().median()"
      ],
      "execution_count": 225,
      "outputs": [
        {
          "output_type": "execute_result",
          "data": {
            "text/plain": [
              "82.0"
            ]
          },
          "metadata": {
            "tags": []
          },
          "execution_count": 225
        }
      ]
    },
    {
      "cell_type": "code",
      "metadata": {
        "id": "-bZrdUvOr9zm",
        "colab_type": "code",
        "colab": {}
      },
      "source": [
        "# Preparing the images"
      ],
      "execution_count": 0,
      "outputs": []
    },
    {
      "cell_type": "code",
      "metadata": {
        "id": "Uh37aDHSwICM",
        "colab_type": "code",
        "colab": {
          "base_uri": "https://localhost:8080/",
          "height": 34
        },
        "outputId": "0440dc11-8421-4c71-c96a-be56ff4b51b2"
      },
      "source": [
        "from IPython.display import Image\n",
        "Image('drive/My Drive/Dog Breed Identification/0a0c223352985ec154fd604d7ddceabd.jpg')"
      ],
      "execution_count": 227,
      "outputs": [
        {
          "output_type": "execute_result",
          "data": {
            "image/png": "drive/My Drive/Dog Breed Identification/0a0c223352985ec154fd604d7ddceabd.jpg",
            "text/plain": [
              "<IPython.core.display.Image object>"
            ]
          },
          "metadata": {
            "tags": []
          },
          "execution_count": 227
        }
      ]
    },
    {
      "cell_type": "markdown",
      "metadata": {
        "id": "Lz-j6LmEw8Gq",
        "colab_type": "text"
      },
      "source": [
        "# Getting Images and their label\n",
        "\n",
        "Let's get a list of all image file path names"
      ]
    },
    {
      "cell_type": "code",
      "metadata": {
        "id": "j8_FCnwoxIRv",
        "colab_type": "code",
        "colab": {
          "base_uri": "https://localhost:8080/",
          "height": 279
        },
        "outputId": "e4692be4-240b-4432-a4f8-e486d8fcac9d"
      },
      "source": [
        "filenames = ['drive/My Drive/Dog Breed Identification/train/'+str(fname)+'.jpg' for fname in labels_csv.id]\n",
        "Image(filenames[255])"
      ],
      "execution_count": 228,
      "outputs": [
        {
          "output_type": "execute_result",
          "data": {
            "image/jpeg": "[encoded data removed]",
            "text/plain": [
              "<IPython.core.display.Image object>"
            ]
          },
          "metadata": {
            "tags": []
          },
          "execution_count": 228
        }
      ]
    },
    {
      "cell_type": "markdown",
      "metadata": {
        "id": "7k1zsA73yUS8",
        "colab_type": "text"
      },
      "source": [
        "## Turning labels in boolean array\n",
        "\n",
        "1.    Since we got our filenames\n",
        "2.    Let's prepare our labels"
      ]
    },
    {
      "cell_type": "code",
      "metadata": {
        "id": "pVYT3Ph0yhjQ",
        "colab_type": "code",
        "colab": {
          "base_uri": "https://localhost:8080/",
          "height": 34
        },
        "outputId": "58efb9e7-144f-4119-c907-421fa2e4185d"
      },
      "source": [
        "unique_breeds = np.unique(labels_csv.breed)\n",
        "unique_breeds\n",
        "len(unique_breeds)"
      ],
      "execution_count": 229,
      "outputs": [
        {
          "output_type": "execute_result",
          "data": {
            "text/plain": [
              "120"
            ]
          },
          "metadata": {
            "tags": []
          },
          "execution_count": 229
        }
      ]
    },
    {
      "cell_type": "code",
      "metadata": {
        "id": "kWFJjkLUzSxy",
        "colab_type": "code",
        "colab": {}
      },
      "source": [
        "# Turn single label intro an array of boolean/integers\n",
        "\n",
        "label_arr = [label == unique_breeds for label in labels]\n",
        "#label_arr = [np.array(label == unique_breeds).astype(int) for label in labels]\n"
      ],
      "execution_count": 0,
      "outputs": []
    },
    {
      "cell_type": "markdown",
      "metadata": {
        "id": "XyXH-nYv1raP",
        "colab_type": "text"
      },
      "source": [
        "# Creating our own validation set"
      ]
    },
    {
      "cell_type": "code",
      "metadata": {
        "id": "GEsb4Z3212eT",
        "colab_type": "code",
        "colab": {
          "base_uri": "https://localhost:8080/",
          "height": 34
        },
        "outputId": "81f5b172-5e21-48ce-fad9-047a49f54d32"
      },
      "source": [
        "X = filenames\n",
        "y = label_arr\n",
        "\n",
        "len(X)"
      ],
      "execution_count": 231,
      "outputs": [
        {
          "output_type": "execute_result",
          "data": {
            "text/plain": [
              "10222"
            ]
          },
          "metadata": {
            "tags": []
          },
          "execution_count": 231
        }
      ]
    },
    {
      "cell_type": "markdown",
      "metadata": {
        "id": "kH8qPIhp2O1M",
        "colab_type": "text"
      },
      "source": [
        "We are going to start of our experiment with ~1000 images and increase as needed"
      ]
    },
    {
      "cell_type": "code",
      "metadata": {
        "id": "8YGq0ZRK2VcS",
        "colab_type": "code",
        "colab": {}
      },
      "source": [
        "# Set number of images for experimenting\n",
        "\n",
        "NUM_IMAGES = 10000 #@param {type:\"slider\",min:1000,max:10000,step:1000}"
      ],
      "execution_count": 0,
      "outputs": []
    },
    {
      "cell_type": "code",
      "metadata": {
        "id": "viJCcaiV2j5N",
        "colab_type": "code",
        "colab": {}
      },
      "source": [
        "from sklearn.model_selection import train_test_split\n",
        "\n",
        "X_train,X_val,y_train,y_val = train_test_split(X[:NUM_IMAGES],y[:NUM_IMAGES],test_size=.2,random_state=42)"
      ],
      "execution_count": 0,
      "outputs": []
    },
    {
      "cell_type": "code",
      "metadata": {
        "id": "irmF65Nc3Fmw",
        "colab_type": "code",
        "colab": {
          "base_uri": "https://localhost:8080/",
          "height": 34
        },
        "outputId": "b8bd4c43-6581-4abe-b4e7-5d521a5d8539"
      },
      "source": [
        "len(X_train),len(X_val),len(y_train),len(y_val)"
      ],
      "execution_count": 234,
      "outputs": [
        {
          "output_type": "execute_result",
          "data": {
            "text/plain": [
              "(8000, 2000, 8000, 2000)"
            ]
          },
          "metadata": {
            "tags": []
          },
          "execution_count": 234
        }
      ]
    },
    {
      "cell_type": "markdown",
      "metadata": {
        "id": "B8sKJAZk3WZ_",
        "colab_type": "text"
      },
      "source": [
        "# Preprocess Images \n",
        "** Turning images in Tensors\n",
        "\n",
        "To preprocess our images into Tensors we're going to write a function which does a few things\n",
        "\n",
        "1. Take an image filepath as input\n",
        "2. Use TensorFlow to read the file and save it to a variable, `image`\n",
        "4. Turn `image` to Tensors\n",
        "4. Turn our `image` to be a shape of (224,224)\n",
        "5. Return the modified `image`"
      ]
    },
    {
      "cell_type": "code",
      "metadata": {
        "id": "Iwtlb7rE3Ym-",
        "colab_type": "code",
        "colab": {
          "base_uri": "https://localhost:8080/",
          "height": 34
        },
        "outputId": "f4ac36ec-0956-4485-b1b8-940e805db865"
      },
      "source": [
        " from matplotlib.pyplot import imread\n",
        " image = imread(filenames[42])\n",
        " image.shape"
      ],
      "execution_count": 235,
      "outputs": [
        {
          "output_type": "execute_result",
          "data": {
            "text/plain": [
              "(257, 350, 3)"
            ]
          },
          "metadata": {
            "tags": []
          },
          "execution_count": 235
        }
      ]
    },
    {
      "cell_type": "code",
      "metadata": {
        "id": "z780z4dy7G5M",
        "colab_type": "code",
        "colab": {
          "base_uri": "https://localhost:8080/",
          "height": 885
        },
        "outputId": "05e5617f-8f7b-431a-cefa-569644a7aaa0"
      },
      "source": [
        "tf.constant(image)"
      ],
      "execution_count": 236,
      "outputs": [
        {
          "output_type": "execute_result",
          "data": {
            "text/plain": [
              "<tf.Tensor: shape=(257, 350, 3), dtype=uint8, numpy=\n",
              "array([[[ 89, 137,  87],\n",
              "        [ 76, 124,  74],\n",
              "        [ 63, 111,  59],\n",
              "        ...,\n",
              "        [ 76, 134,  86],\n",
              "        [ 76, 134,  86],\n",
              "        [ 76, 134,  86]],\n",
              "\n",
              "       [[ 72, 119,  73],\n",
              "        [ 67, 114,  68],\n",
              "        [ 63, 111,  63],\n",
              "        ...,\n",
              "        [ 75, 131,  84],\n",
              "        [ 74, 132,  84],\n",
              "        [ 74, 131,  86]],\n",
              "\n",
              "       [[ 56, 104,  66],\n",
              "        [ 58, 106,  66],\n",
              "        [ 64, 112,  72],\n",
              "        ...,\n",
              "        [ 71, 127,  82],\n",
              "        [ 73, 129,  84],\n",
              "        [ 73, 130,  85]],\n",
              "\n",
              "       ...,\n",
              "\n",
              "       [[  2,  11,  10],\n",
              "        [  5,  14,  13],\n",
              "        [  6,  15,  14],\n",
              "        ...,\n",
              "        [120, 113,  67],\n",
              "        [126, 118,  72],\n",
              "        [122, 114,  67]],\n",
              "\n",
              "       [[  0,   4,   6],\n",
              "        [  0,   9,   8],\n",
              "        [  1,  10,   9],\n",
              "        ...,\n",
              "        [105,  98,  52],\n",
              "        [111, 104,  58],\n",
              "        [111, 103,  56]],\n",
              "\n",
              "       [[ 18,  16,  37],\n",
              "        [ 18,  18,  28],\n",
              "        [ 17,  20,  11],\n",
              "        ...,\n",
              "        [101,  92,  53],\n",
              "        [ 97,  88,  49],\n",
              "        [120, 111,  72]]], dtype=uint8)>"
            ]
          },
          "metadata": {
            "tags": []
          },
          "execution_count": 236
        }
      ]
    },
    {
      "cell_type": "code",
      "metadata": {
        "id": "W-Lm0A5J-B8i",
        "colab_type": "code",
        "colab": {}
      },
      "source": [
        "#1. Take an image filepath as input\n",
        "#2. Use TensorFlow to read the file and save it to a variable, `image`\n",
        "#3. Turn `image` to Tensors\n",
        "#4. Turn our `image` to be a shape of (224,224)\n",
        "#5. Return the modified `image`\n",
        "\n",
        "# Define image size\n",
        "IMG_SIZE = 224 #@param {type:\"slider\",min:224,max:304,step:16}\n"
      ],
      "execution_count": 0,
      "outputs": []
    },
    {
      "cell_type": "code",
      "metadata": {
        "id": "jaowxb0H-3qD",
        "colab_type": "code",
        "colab": {}
      },
      "source": [
        "def process_image(image_path,img_size=IMG_SIZE):\n",
        "  image = tf.io.read_file(image_path)\n",
        "  image = tf.image.decode_jpeg(image,channels=3)\n",
        "  image = tf.image.convert_image_dtype(image,tf.float32)\n",
        "  image = tf.image.resize(image,size=[IMG_SIZE,IMG_SIZE])\n",
        "\n",
        "  return image"
      ],
      "execution_count": 0,
      "outputs": []
    },
    {
      "cell_type": "markdown",
      "metadata": {
        "id": "RUF7AnDOAkhE",
        "colab_type": "text"
      },
      "source": [
        "## Turning our data into batches\n",
        "\n",
        "In order to use TensorFlow effectively, we need our data in form of Tensor tuples which look like this\n",
        "\n",
        "`(image,label)`"
      ]
    },
    {
      "cell_type": "code",
      "metadata": {
        "id": "F9JnxL8wAmw0",
        "colab_type": "code",
        "colab": {}
      },
      "source": [
        "def get_image_label_tuple(image_path,label):\n",
        "  image = process_image(image_path,IMG_SIZE)\n",
        "\n",
        "  return image,(label)"
      ],
      "execution_count": 0,
      "outputs": []
    },
    {
      "cell_type": "code",
      "metadata": {
        "id": "oAMC-gO8BQRh",
        "colab_type": "code",
        "colab": {
          "base_uri": "https://localhost:8080/",
          "height": 990
        },
        "outputId": "d8793588-71fe-480b-caef-54dfdac23e1e"
      },
      "source": [
        "get_image_label_tuple(filenames[42],arr[42])"
      ],
      "execution_count": 240,
      "outputs": [
        {
          "output_type": "execute_result",
          "data": {
            "text/plain": [
              "(<tf.Tensor: shape=(224, 224, 3), dtype=float32, numpy=\n",
              " array([[[0.3264178 , 0.5222886 , 0.3232816 ],\n",
              "         [0.2537167 , 0.44366494, 0.24117757],\n",
              "         [0.25699762, 0.4467087 , 0.23893751],\n",
              "         ...,\n",
              "         [0.29325107, 0.5189916 , 0.3215547 ],\n",
              "         [0.29721776, 0.52466875, 0.33030328],\n",
              "         [0.2948505 , 0.5223015 , 0.33406618]],\n",
              " \n",
              "        [[0.25903144, 0.4537807 , 0.27294815],\n",
              "         [0.24375686, 0.4407019 , 0.2554778 ],\n",
              "         [0.2838985 , 0.47213382, 0.28298813],\n",
              "         ...,\n",
              "         [0.2785345 , 0.5027992 , 0.31004712],\n",
              "         [0.28428748, 0.5108719 , 0.32523635],\n",
              "         [0.28821915, 0.5148036 , 0.32916805]],\n",
              " \n",
              "        [[0.20941195, 0.40692952, 0.25792548],\n",
              "         [0.24045378, 0.43900946, 0.2868911 ],\n",
              "         [0.29001117, 0.47937486, 0.32247734],\n",
              "         ...,\n",
              "         [0.26074055, 0.48414773, 0.30125174],\n",
              "         [0.27101526, 0.49454468, 0.32096273],\n",
              "         [0.27939945, 0.5029289 , 0.32934693]],\n",
              " \n",
              "        ...,\n",
              " \n",
              "        [[0.00634795, 0.03442048, 0.0258106 ],\n",
              "         [0.01408936, 0.04459917, 0.0301715 ],\n",
              "         [0.01385712, 0.04856448, 0.02839671],\n",
              "         ...,\n",
              "         [0.4220516 , 0.39761978, 0.21622123],\n",
              "         [0.47932503, 0.45370543, 0.2696505 ],\n",
              "         [0.48181024, 0.45828083, 0.27004552]],\n",
              " \n",
              "        [[0.00222061, 0.02262166, 0.03176915],\n",
              "         [0.01008397, 0.03669046, 0.02473482],\n",
              "         [0.00608852, 0.03890046, 0.01207283],\n",
              "         ...,\n",
              "         [0.36070833, 0.33803678, 0.16216145],\n",
              "         [0.42499566, 0.3976801 , 0.21701711],\n",
              "         [0.4405433 , 0.4139589 , 0.23183356]],\n",
              " \n",
              "        [[0.05608025, 0.06760229, 0.10401428],\n",
              "         [0.05441074, 0.07435255, 0.05428263],\n",
              "         [0.04734282, 0.07581793, 0.02060942],\n",
              "         ...,\n",
              "         [0.3397559 , 0.31265694, 0.14725602],\n",
              "         [0.387725  , 0.360274  , 0.18714729],\n",
              "         [0.43941984, 0.41196886, 0.23884216]]], dtype=float32)>,\n",
              " array([0, 0, 0, 0, 0, 0, 0, 0, 0, 0, 0, 0, 0, 0, 0, 0, 0, 0, 0, 0, 0, 0,\n",
              "        0, 0, 0, 0, 0, 0, 0, 0, 0, 0, 0, 0, 0, 0, 1, 0, 0, 0, 0, 0, 0, 0,\n",
              "        0, 0, 0, 0, 0, 0, 0, 0, 0, 0, 0, 0, 0, 0, 0, 0, 0, 0, 0, 0, 0, 0,\n",
              "        0, 0, 0, 0, 0, 0, 0, 0, 0, 0, 0, 0, 0, 0, 0, 0, 0, 0, 0, 0, 0, 0,\n",
              "        0, 0, 0, 0, 0, 0, 0, 0, 0, 0, 0, 0, 0, 0, 0, 0, 0, 0, 0, 0, 0, 0,\n",
              "        0, 0, 0, 0, 0, 0, 0, 0, 0, 0]))"
            ]
          },
          "metadata": {
            "tags": []
          },
          "execution_count": 240
        }
      ]
    },
    {
      "cell_type": "code",
      "metadata": {
        "id": "Y8szR2ghBZ5u",
        "colab_type": "code",
        "colab": {}
      },
      "source": [
        "BATCH_SIZE = 32 #@param {type:\"slider\",min:32,max:64,step:16}"
      ],
      "execution_count": 0,
      "outputs": []
    },
    {
      "cell_type": "code",
      "metadata": {
        "id": "Q2zVmKQnGSiW",
        "colab_type": "code",
        "colab": {}
      },
      "source": [
        "# Create a function to turn data into batches\n",
        "def create_batches(X,y=None,batch_size=BATCH_SIZE,valid_data=False,test_data=False):\n",
        "  # y is None when creating batch test sample\n",
        "  # validation set is not shuffled\n",
        "  if test_data:\n",
        "    print(\"Creating test dataset batch\")\n",
        "    data = tf.data.Dataset.from_tensor_slices((tf.constant(X)))\n",
        "    data_batch = data.map(process_image).batch(IMAGE_SIZE)\n",
        "    return data_batch\n",
        "  elif valid_data:\n",
        "    print(\"Creating validation dataset batch\")\n",
        "    data = tf.data.Dataset.from_tensor_slices((tf.constant(X),tf.constant(y)))\n",
        "    data_batch = data.map(get_image_label_tuple).batch(IMG_SIZE)\n",
        "    return data_batch\n",
        "  else:\n",
        "    print(\"Creating training dataset batch\")\n",
        "    data = tf.data.Dataset.from_tensor_slices((tf.constant(X),tf.constant(y)))\n",
        "    data = data.shuffle(buffer_size=len(X))\n",
        "    data_batch = data.map(get_image_label_tuple).batch(IMG_SIZE)\n",
        "    return data_batch"
      ],
      "execution_count": 0,
      "outputs": []
    },
    {
      "cell_type": "code",
      "metadata": {
        "id": "xDrWZDWLJVPa",
        "colab_type": "code",
        "colab": {
          "base_uri": "https://localhost:8080/",
          "height": 52
        },
        "outputId": "9c7d7e5f-735c-4824-9327-eed983cdbe4d"
      },
      "source": [
        "train_data = create_batches(X_train,y_train)\n",
        "validation_data = create_batches(X_train,y_train,valid_data=True)"
      ],
      "execution_count": 243,
      "outputs": [
        {
          "output_type": "stream",
          "text": [
            "Creating training dataset batch\n",
            "Creating validation dataset batch\n"
          ],
          "name": "stdout"
        }
      ]
    },
    {
      "cell_type": "code",
      "metadata": {
        "id": "ce_t2D8oJZfp",
        "colab_type": "code",
        "colab": {
          "base_uri": "https://localhost:8080/",
          "height": 72
        },
        "outputId": "e1efe13d-b908-4ec8-a76b-38a7b1f4f794"
      },
      "source": [
        "train_data.element_spec"
      ],
      "execution_count": 244,
      "outputs": [
        {
          "output_type": "execute_result",
          "data": {
            "text/plain": [
              "(TensorSpec(shape=(None, 224, 224, 3), dtype=tf.float32, name=None),\n",
              " TensorSpec(shape=(None, 120), dtype=tf.bool, name=None))"
            ]
          },
          "metadata": {
            "tags": []
          },
          "execution_count": 244
        },
        {
          "output_type": "stream",
          "text": [
            "ERROR! Session/line number was not unique in database. History logging moved to new session 63\n"
          ],
          "name": "stdout"
        }
      ]
    },
    {
      "cell_type": "code",
      "metadata": {
        "id": "vsv2IHNlKJLT",
        "colab_type": "code",
        "colab": {}
      },
      "source": [
        ""
      ],
      "execution_count": 0,
      "outputs": []
    }
  ]
}