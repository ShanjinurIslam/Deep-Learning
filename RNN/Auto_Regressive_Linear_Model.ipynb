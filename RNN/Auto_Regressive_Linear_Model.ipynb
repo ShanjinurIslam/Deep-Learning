{
  "nbformat": 4,
  "nbformat_minor": 0,
  "metadata": {
    "colab": {
      "name": "Auto Regressive Linear Model.ipynb",
      "provenance": []
    },
    "kernelspec": {
      "name": "python3",
      "display_name": "Python 3"
    }
  },
  "cells": [
    {
      "cell_type": "code",
      "metadata": {
        "id": "Ci1uIn2dLOo1",
        "colab_type": "code",
        "colab": {}
      },
      "source": [
        "import tensorflow as tf"
      ],
      "execution_count": 0,
      "outputs": []
    },
    {
      "cell_type": "code",
      "metadata": {
        "id": "OWcClW_yLXMf",
        "colab_type": "code",
        "colab": {}
      },
      "source": [
        "from tensorflow.keras.layers import Input,Dense\n",
        "from tensorflow.keras.models import Model\n",
        "from tensorflow.keras.optimizers import SGD, Adam\n",
        "\n",
        "import numpy as np\n",
        "import pandas as pd\n",
        "import matplotlib.pyplot as plt"
      ],
      "execution_count": 0,
      "outputs": []
    },
    {
      "cell_type": "code",
      "metadata": {
        "id": "eDkm6GpmLui3",
        "colab_type": "code",
        "colab": {
          "base_uri": "https://localhost:8080/",
          "height": 282
        },
        "outputId": "581adaed-3d61-4115-95a6-590455d8313b"
      },
      "source": [
        "# sine wave of 200 points\n",
        "series = np.sin(0.1*np.arange(200)) + np.random.rand(200)*.1\n",
        "plt.plot(series)"
      ],
      "execution_count": 44,
      "outputs": [
        {
          "output_type": "execute_result",
          "data": {
            "text/plain": [
              "[<matplotlib.lines.Line2D at 0x7f4809203a90>]"
            ]
          },
          "metadata": {
            "tags": []
          },
          "execution_count": 44
        },
        {
          "output_type": "display_data",
          "data": {
            "image/png": "[encoded data removed]",
            "text/plain": [
              "<Figure size 432x288 with 1 Axes>"
            ]
          },
          "metadata": {
            "tags": [],
            "needs_background": "light"
          }
        }
      ]
    },
    {
      "cell_type": "code",
      "metadata": {
        "id": "ObIJUbwoL-3-",
        "colab_type": "code",
        "colab": {
          "base_uri": "https://localhost:8080/",
          "height": 34
        },
        "outputId": "450f38b8-c223-4e7a-d141-0c765bc33761"
      },
      "source": [
        "T = 10\n",
        "X = []\n",
        "Y = []\n",
        "for t in range(len(series)-T):\n",
        "  x = series[t:t+T]\n",
        "  X.append(x)\n",
        "  y = series[t+T]\n",
        "  Y.append(y)\n",
        "\n",
        "X = np.array(X).reshape(-1,T)\n",
        "Y = np.array(Y)\n",
        "N = len(X)\n",
        "\n",
        "print('X Shape: ',X.shape,' Y Shape: ',Y.shape)"
      ],
      "execution_count": 45,
      "outputs": [
        {
          "output_type": "stream",
          "text": [
            "X Shape:  (190, 10)  Y Shape:  (190,)\n"
          ],
          "name": "stdout"
        }
      ]
    },
    {
      "cell_type": "code",
      "metadata": {
        "id": "edZcvVh9Mcg-",
        "colab_type": "code",
        "colab": {}
      },
      "source": [
        "i = Input(shape=(T,))\n",
        "x = Dense(1)(i)\n",
        "model = Model(i,x)\n",
        "model.compile(loss='mse',optimizer=Adam(lr=.1))"
      ],
      "execution_count": 0,
      "outputs": []
    },
    {
      "cell_type": "code",
      "metadata": {
        "id": "TJSBqPSNNhKC",
        "colab_type": "code",
        "colab": {
          "base_uri": "https://localhost:8080/",
          "height": 221
        },
        "outputId": "8dbe7099-eb3a-478e-c864-babc6ee22550"
      },
      "source": [
        "model.summary()"
      ],
      "execution_count": 47,
      "outputs": [
        {
          "output_type": "stream",
          "text": [
            "Model: \"model_1\"\n",
            "_________________________________________________________________\n",
            "Layer (type)                 Output Shape              Param #   \n",
            "=================================================================\n",
            "input_2 (InputLayer)         [(None, 10)]              0         \n",
            "_________________________________________________________________\n",
            "dense_1 (Dense)              (None, 1)                 11        \n",
            "=================================================================\n",
            "Total params: 11\n",
            "Trainable params: 11\n",
            "Non-trainable params: 0\n",
            "_________________________________________________________________\n"
          ],
          "name": "stdout"
        }
      ]
    },
    {
      "cell_type": "code",
      "metadata": {
        "id": "__jPB60fNi4V",
        "colab_type": "code",
        "colab": {
          "base_uri": "https://localhost:8080/",
          "height": 1000
        },
        "outputId": "df6380d5-3098-4ffc-ea54-08b45b3c689a"
      },
      "source": [
        "r = model.fit(X[0:N//2],Y[0:N//2],epochs=80,validation_data=(X[N//2:N],Y[N//2:N]))"
      ],
      "execution_count": 48,
      "outputs": [
        {
          "output_type": "stream",
          "text": [
            "Epoch 1/80\n",
            "3/3 [==============================] - 0s 25ms/step - loss: 0.6117 - val_loss: 0.4167\n",
            "Epoch 2/80\n",
            "3/3 [==============================] - 0s 12ms/step - loss: 0.3798 - val_loss: 0.1259\n",
            "Epoch 3/80\n",
            "3/3 [==============================] - 0s 13ms/step - loss: 0.1509 - val_loss: 0.1277\n",
            "Epoch 4/80\n",
            "3/3 [==============================] - 0s 59ms/step - loss: 0.1009 - val_loss: 0.0410\n",
            "Epoch 5/80\n",
            "3/3 [==============================] - 0s 12ms/step - loss: 0.0405 - val_loss: 0.0797\n",
            "Epoch 6/80\n",
            "3/3 [==============================] - 0s 12ms/step - loss: 0.0496 - val_loss: 0.0108\n",
            "Epoch 7/80\n",
            "3/3 [==============================] - 0s 12ms/step - loss: 0.0261 - val_loss: 0.0597\n",
            "Epoch 8/80\n",
            "3/3 [==============================] - 0s 12ms/step - loss: 0.0439 - val_loss: 0.0350\n",
            "Epoch 9/80\n",
            "3/3 [==============================] - 0s 13ms/step - loss: 0.0289 - val_loss: 0.0313\n",
            "Epoch 10/80\n",
            "3/3 [==============================] - 0s 13ms/step - loss: 0.0298 - val_loss: 0.0125\n",
            "Epoch 11/80\n",
            "3/3 [==============================] - 0s 13ms/step - loss: 0.0105 - val_loss: 0.0156\n",
            "Epoch 12/80\n",
            "3/3 [==============================] - 0s 17ms/step - loss: 0.0117 - val_loss: 0.0023\n",
            "Epoch 13/80\n",
            "3/3 [==============================] - 0s 16ms/step - loss: 0.0053 - val_loss: 0.0134\n",
            "Epoch 14/80\n",
            "3/3 [==============================] - 0s 12ms/step - loss: 0.0085 - val_loss: 0.0052\n",
            "Epoch 15/80\n",
            "3/3 [==============================] - 0s 12ms/step - loss: 0.0057 - val_loss: 0.0064\n",
            "Epoch 16/80\n",
            "3/3 [==============================] - 0s 13ms/step - loss: 0.0053 - val_loss: 0.0039\n",
            "Epoch 17/80\n",
            "3/3 [==============================] - 0s 12ms/step - loss: 0.0049 - val_loss: 0.0034\n",
            "Epoch 18/80\n",
            "3/3 [==============================] - 0s 13ms/step - loss: 0.0034 - val_loss: 0.0033\n",
            "Epoch 19/80\n",
            "3/3 [==============================] - 0s 12ms/step - loss: 0.0032 - val_loss: 0.0020\n",
            "Epoch 20/80\n",
            "3/3 [==============================] - 0s 13ms/step - loss: 0.0023 - val_loss: 0.0023\n",
            "Epoch 21/80\n",
            "3/3 [==============================] - 0s 11ms/step - loss: 0.0027 - val_loss: 0.0019\n",
            "Epoch 22/80\n",
            "3/3 [==============================] - 0s 11ms/step - loss: 0.0026 - val_loss: 0.0023\n",
            "Epoch 23/80\n",
            "3/3 [==============================] - 0s 14ms/step - loss: 0.0024 - val_loss: 0.0019\n",
            "Epoch 24/80\n",
            "3/3 [==============================] - 0s 12ms/step - loss: 0.0025 - val_loss: 0.0018\n",
            "Epoch 25/80\n",
            "3/3 [==============================] - 0s 13ms/step - loss: 0.0022 - val_loss: 0.0022\n",
            "Epoch 26/80\n",
            "3/3 [==============================] - 0s 12ms/step - loss: 0.0022 - val_loss: 0.0017\n",
            "Epoch 27/80\n",
            "3/3 [==============================] - 0s 12ms/step - loss: 0.0021 - val_loss: 0.0019\n",
            "Epoch 28/80\n",
            "3/3 [==============================] - 0s 13ms/step - loss: 0.0022 - val_loss: 0.0019\n",
            "Epoch 29/80\n",
            "3/3 [==============================] - 0s 14ms/step - loss: 0.0021 - val_loss: 0.0018\n",
            "Epoch 30/80\n",
            "3/3 [==============================] - 0s 14ms/step - loss: 0.0020 - val_loss: 0.0018\n",
            "Epoch 31/80\n",
            "3/3 [==============================] - 0s 12ms/step - loss: 0.0020 - val_loss: 0.0017\n",
            "Epoch 32/80\n",
            "3/3 [==============================] - 0s 15ms/step - loss: 0.0020 - val_loss: 0.0017\n",
            "Epoch 33/80\n",
            "3/3 [==============================] - 0s 12ms/step - loss: 0.0020 - val_loss: 0.0017\n",
            "Epoch 34/80\n",
            "3/3 [==============================] - 0s 13ms/step - loss: 0.0020 - val_loss: 0.0016\n",
            "Epoch 35/80\n",
            "3/3 [==============================] - 0s 14ms/step - loss: 0.0020 - val_loss: 0.0017\n",
            "Epoch 36/80\n",
            "3/3 [==============================] - 0s 13ms/step - loss: 0.0021 - val_loss: 0.0017\n",
            "Epoch 37/80\n",
            "3/3 [==============================] - 0s 13ms/step - loss: 0.0019 - val_loss: 0.0017\n",
            "Epoch 38/80\n",
            "3/3 [==============================] - 0s 13ms/step - loss: 0.0021 - val_loss: 0.0017\n",
            "Epoch 39/80\n",
            "3/3 [==============================] - 0s 14ms/step - loss: 0.0020 - val_loss: 0.0016\n",
            "Epoch 40/80\n",
            "3/3 [==============================] - 0s 12ms/step - loss: 0.0020 - val_loss: 0.0017\n",
            "Epoch 41/80\n",
            "3/3 [==============================] - 0s 13ms/step - loss: 0.0019 - val_loss: 0.0017\n",
            "Epoch 42/80\n",
            "3/3 [==============================] - 0s 14ms/step - loss: 0.0020 - val_loss: 0.0016\n",
            "Epoch 43/80\n",
            "3/3 [==============================] - 0s 12ms/step - loss: 0.0023 - val_loss: 0.0017\n",
            "Epoch 44/80\n",
            "3/3 [==============================] - 0s 11ms/step - loss: 0.0021 - val_loss: 0.0018\n",
            "Epoch 45/80\n",
            "3/3 [==============================] - 0s 13ms/step - loss: 0.0021 - val_loss: 0.0019\n",
            "Epoch 46/80\n",
            "3/3 [==============================] - 0s 12ms/step - loss: 0.0021 - val_loss: 0.0016\n",
            "Epoch 47/80\n",
            "3/3 [==============================] - 0s 13ms/step - loss: 0.0022 - val_loss: 0.0016\n",
            "Epoch 48/80\n",
            "3/3 [==============================] - 0s 12ms/step - loss: 0.0018 - val_loss: 0.0018\n",
            "Epoch 49/80\n",
            "3/3 [==============================] - 0s 13ms/step - loss: 0.0021 - val_loss: 0.0016\n",
            "Epoch 50/80\n",
            "3/3 [==============================] - 0s 12ms/step - loss: 0.0020 - val_loss: 0.0016\n",
            "Epoch 51/80\n",
            "3/3 [==============================] - 0s 16ms/step - loss: 0.0019 - val_loss: 0.0016\n",
            "Epoch 52/80\n",
            "3/3 [==============================] - 0s 14ms/step - loss: 0.0021 - val_loss: 0.0016\n",
            "Epoch 53/80\n",
            "3/3 [==============================] - 0s 14ms/step - loss: 0.0021 - val_loss: 0.0018\n",
            "Epoch 54/80\n",
            "3/3 [==============================] - 0s 13ms/step - loss: 0.0019 - val_loss: 0.0017\n",
            "Epoch 55/80\n",
            "3/3 [==============================] - 0s 13ms/step - loss: 0.0020 - val_loss: 0.0016\n",
            "Epoch 56/80\n",
            "3/3 [==============================] - 0s 13ms/step - loss: 0.0019 - val_loss: 0.0016\n",
            "Epoch 57/80\n",
            "3/3 [==============================] - 0s 13ms/step - loss: 0.0020 - val_loss: 0.0016\n",
            "Epoch 58/80\n",
            "3/3 [==============================] - 0s 13ms/step - loss: 0.0019 - val_loss: 0.0016\n",
            "Epoch 59/80\n",
            "3/3 [==============================] - 0s 13ms/step - loss: 0.0019 - val_loss: 0.0016\n",
            "Epoch 60/80\n",
            "3/3 [==============================] - 0s 13ms/step - loss: 0.0019 - val_loss: 0.0016\n",
            "Epoch 61/80\n",
            "3/3 [==============================] - 0s 14ms/step - loss: 0.0020 - val_loss: 0.0016\n",
            "Epoch 62/80\n",
            "3/3 [==============================] - 0s 14ms/step - loss: 0.0018 - val_loss: 0.0016\n",
            "Epoch 63/80\n",
            "3/3 [==============================] - 0s 13ms/step - loss: 0.0020 - val_loss: 0.0016\n",
            "Epoch 64/80\n",
            "3/3 [==============================] - 0s 14ms/step - loss: 0.0018 - val_loss: 0.0016\n",
            "Epoch 65/80\n",
            "3/3 [==============================] - 0s 13ms/step - loss: 0.0019 - val_loss: 0.0015\n",
            "Epoch 66/80\n",
            "3/3 [==============================] - 0s 13ms/step - loss: 0.0018 - val_loss: 0.0017\n",
            "Epoch 67/80\n",
            "3/3 [==============================] - 0s 12ms/step - loss: 0.0019 - val_loss: 0.0016\n",
            "Epoch 68/80\n",
            "3/3 [==============================] - 0s 13ms/step - loss: 0.0020 - val_loss: 0.0017\n",
            "Epoch 69/80\n",
            "3/3 [==============================] - 0s 13ms/step - loss: 0.0019 - val_loss: 0.0016\n",
            "Epoch 70/80\n",
            "3/3 [==============================] - 0s 15ms/step - loss: 0.0021 - val_loss: 0.0017\n",
            "Epoch 71/80\n",
            "3/3 [==============================] - 0s 13ms/step - loss: 0.0025 - val_loss: 0.0015\n",
            "Epoch 72/80\n",
            "3/3 [==============================] - 0s 13ms/step - loss: 0.0022 - val_loss: 0.0016\n",
            "Epoch 73/80\n",
            "3/3 [==============================] - 0s 13ms/step - loss: 0.0024 - val_loss: 0.0018\n",
            "Epoch 74/80\n",
            "3/3 [==============================] - 0s 12ms/step - loss: 0.0025 - val_loss: 0.0018\n",
            "Epoch 75/80\n",
            "3/3 [==============================] - 0s 12ms/step - loss: 0.0022 - val_loss: 0.0019\n",
            "Epoch 76/80\n",
            "3/3 [==============================] - 0s 12ms/step - loss: 0.0020 - val_loss: 0.0017\n",
            "Epoch 77/80\n",
            "3/3 [==============================] - 0s 12ms/step - loss: 0.0019 - val_loss: 0.0017\n",
            "Epoch 78/80\n",
            "3/3 [==============================] - 0s 13ms/step - loss: 0.0019 - val_loss: 0.0015\n",
            "Epoch 79/80\n",
            "3/3 [==============================] - 0s 12ms/step - loss: 0.0018 - val_loss: 0.0015\n",
            "Epoch 80/80\n",
            "3/3 [==============================] - 0s 14ms/step - loss: 0.0018 - val_loss: 0.0015\n"
          ],
          "name": "stdout"
        }
      ]
    },
    {
      "cell_type": "code",
      "metadata": {
        "id": "MM8uiE_oN_VB",
        "colab_type": "code",
        "colab": {
          "base_uri": "https://localhost:8080/",
          "height": 282
        },
        "outputId": "e5fe6384-f238-4b33-b545-515a2d835f25"
      },
      "source": [
        "plt.plot(r.history['loss'],label='loss')\n",
        "plt.plot(r.history['val_loss'],label='val_loss')\n",
        "plt.legend()"
      ],
      "execution_count": 49,
      "outputs": [
        {
          "output_type": "execute_result",
          "data": {
            "text/plain": [
              "<matplotlib.legend.Legend at 0x7f4809456d30>"
            ]
          },
          "metadata": {
            "tags": []
          },
          "execution_count": 49
        },
        {
          "output_type": "display_data",
          "data": {
            "image/png": "[encoded data removed]",
            "text/plain": [
              "<Figure size 432x288 with 1 Axes>"
            ]
          },
          "metadata": {
            "tags": [],
            "needs_background": "light"
          }
        }
      ]
    },
    {
      "cell_type": "code",
      "metadata": {
        "id": "G6xHYFxbONan",
        "colab_type": "code",
        "colab": {}
      },
      "source": [
        "validation_target = Y[-N//2:]\n",
        "validation_predictions = []\n",
        "\n",
        "x = X[-N//2]\n",
        "\n",
        "while(len(validation_predictions)<len(validation_target)):\n",
        "  p = model.predict(x.reshape(1,-1))[0,0]\n",
        "  validation_predictions.append(p)\n",
        "  x = np.roll(x,-1)\n",
        "  x[-1] = p"
      ],
      "execution_count": 0,
      "outputs": []
    },
    {
      "cell_type": "code",
      "metadata": {
        "id": "NnWfAXr5OpYk",
        "colab_type": "code",
        "colab": {
          "base_uri": "https://localhost:8080/",
          "height": 282
        },
        "outputId": "7a700c5c-39de-41b9-f5de-b7d9cc4f2299"
      },
      "source": [
        "plt.plot(validation_target,label='target')\n",
        "plt.plot(validation_predictions,label='pred')\n",
        "plt.legend()"
      ],
      "execution_count": 51,
      "outputs": [
        {
          "output_type": "execute_result",
          "data": {
            "text/plain": [
              "<matplotlib.legend.Legend at 0x7f48093fada0>"
            ]
          },
          "metadata": {
            "tags": []
          },
          "execution_count": 51
        },
        {
          "output_type": "display_data",
          "data": {
            "image/png": "[encoded data removed]",
            "text/plain": [
              "<Figure size 432x288 with 1 Axes>"
            ]
          },
          "metadata": {
            "tags": [],
            "needs_background": "light"
          }
        }
      ]
    },
    {
      "cell_type": "code",
      "metadata": {
        "id": "uaVENe6iQvad",
        "colab_type": "code",
        "colab": {}
      },
      "source": [
        ""
      ],
      "execution_count": 0,
      "outputs": []
    }
  ]
}